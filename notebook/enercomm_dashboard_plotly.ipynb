{
 "cells": [
  {
   "cell_type": "markdown",
   "id": "530f0165",
   "metadata": {},
   "source": [
    "# Dasboard Visualisation Tool\n",
    "\n",
    "1. Visualisation Tool based on open source plotly library, within the modules Panel (interactive control panel) and Holoviews\n",
    "\n",
    "2. to be realised within dashframework for rapidly building data apps https://dash.plotly.com/introduction"
   ]
  },
  {
   "cell_type": "code",
   "execution_count": null,
   "id": "05609722",
   "metadata": {},
   "outputs": [],
   "source": [
    "#pip install jupyter-dash\n",
    "#pip install holoviews\n",
    "#pip install panel\n",
    "#pip install \"notebook>=5.3\" \"ipywidgets>=7.5\""
   ]
  },
  {
   "cell_type": "code",
   "execution_count": null,
   "id": "6a900792",
   "metadata": {},
   "outputs": [],
   "source": [
    "import pandas as pd\n",
    "df= pd.read_csv('../data/matrix_visualisation.csv', index_col='Unnamed: 0')\n",
    "df[\"Main_categoty\"] = df[\"Main_categoty\"].astype(str)"
   ]
  },
  {
   "cell_type": "code",
   "execution_count": null,
   "id": "05ea3193",
   "metadata": {},
   "outputs": [],
   "source": [
    "df = df.sort_values(by=['count_keywords_mathes'], ascending=False).head(100)"
   ]
  },
  {
   "cell_type": "code",
   "execution_count": null,
   "id": "a517bc57",
   "metadata": {},
   "outputs": [],
   "source": [
    "dropdown = df.columns.tolist()\n",
    "dropdown=dropdown[0:17]\n",
    "df.columns"
   ]
  },
  {
   "cell_type": "code",
   "execution_count": null,
   "id": "a186662a",
   "metadata": {
    "scrolled": false
   },
   "outputs": [],
   "source": [
    "import panel as pn\n",
    "import plotly.graph_objs as go\n",
    "import plotly.express as px\n",
    "from ipywidgets import widgets\n",
    "pn.extension('plotly')\n",
    "#subcat=12\n",
    "\n",
    "#df.query(\"year==2007\")\n",
    "fig = px.scatter(df, x=\"ecMaxContribution\", y=str(textbox.value),\n",
    "\t         size=\"durationM\", color=\"Main_categoty\",\n",
    "                 hover_name=\"acronym\", log_x=True, size_max=40)\n",
    "\n",
    "#responsive = pn.pane.Plotly(fig, config={'responsive': True})\n",
    "\n",
    "fig.show()\n",
    "#pn.Row(responsive.controls(jslink=True), responsive)\n",
    "textbox = widgets.Dropdown(\n",
    "    description='Subcategory:   ',\n",
    "    value='count_keywords_mathes',\n",
    "    options=dropdown\n",
    ")\n",
    "\n",
    "def validate():\n",
    "    if textbox.value in df.columns:\n",
    "        return True\n",
    "    else:\n",
    "        return False\n",
    "\n",
    "def response(change):\n",
    "    if validate():\n",
    "        filter_list = [i for i in\n",
    "                        zip(df[change] == textbox.value )]\n",
    "        temp_df = df[filter_list]\n",
    "    #temp_df = df.sort_values(by=[change], ascending=False).head(100)\n",
    "    #filter_list = [i and j and k for i, j, k in df['textbox.value'] == textbox.value]\n",
    "    #temp_df = df[filter_list]\n",
    "\n",
    "textbox.observe(response, names=\"value\")\n",
    "\n",
    "container = widgets.HBox([textbox])\n",
    "widgets.VBox([container])"
   ]
  },
  {
   "cell_type": "code",
   "execution_count": null,
   "id": "af625eb5",
   "metadata": {},
   "outputs": [],
   "source": []
  }
 ],
 "metadata": {
  "kernelspec": {
   "display_name": "Python 3",
   "language": "python",
   "name": "python3"
  },
  "language_info": {
   "codemirror_mode": {
    "name": "ipython",
    "version": 3
   },
   "file_extension": ".py",
   "mimetype": "text/x-python",
   "name": "python",
   "nbconvert_exporter": "python",
   "pygments_lexer": "ipython3",
   "version": "3.8.8"
  }
 },
 "nbformat": 4,
 "nbformat_minor": 5
}
