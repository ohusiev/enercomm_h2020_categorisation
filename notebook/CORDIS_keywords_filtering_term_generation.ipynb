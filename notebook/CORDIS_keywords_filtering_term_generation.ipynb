{
 "cells": [
  {
   "cell_type": "markdown",
   "id": "e322c0fa",
   "metadata": {},
   "source": [
    "## CORDIS \"Energy Community related\"  Projects Deterministic Search\n",
    "\n",
    "the source code partialy inspired by an opensource code provided in https://github.com/MaastrichtU-IDS/clean-technologies-nlp.git"
   ]
  },
  {
   "cell_type": "code",
   "execution_count": 1,
   "id": "41d6d919",
   "metadata": {},
   "outputs": [
    {
     "data": {
      "text/plain": [
       "' \\nInstalling a flashtext library for keyword search, if needed\\n'"
      ]
     },
     "execution_count": 1,
     "metadata": {},
     "output_type": "execute_result"
    }
   ],
   "source": [
    "\"\"\" \n",
    "Installing a flashtext library for keyword search, if needed\n",
    "\"\"\" \n",
    "#pip install flashtext"
   ]
  },
  {
   "cell_type": "code",
   "execution_count": 2,
   "id": "a0a954d0",
   "metadata": {},
   "outputs": [],
   "source": [
    "import pandas as pd\n",
    "import numpy as np\n",
    "import warnings\n",
    "import matplotlib.pyplot as plt\n",
    "warnings.filterwarnings(\"ignore\")\n",
    "%matplotlib inline"
   ]
  },
  {
   "cell_type": "markdown",
   "id": "91e4a1c1",
   "metadata": {},
   "source": [
    "### 1. Gathering the terms catalogue"
   ]
  },
  {
   "cell_type": "markdown",
   "id": "f223619e",
   "metadata": {},
   "source": [
    "Importing a terms for preliminary filtering of the topics.\n",
    "\n",
    "The term_catalogue involves the keywords praliminary filtering of energy projects aimed at implementation in communities.\n",
    "\n",
    "It was made to limit the length of future corpus. (NOTE: it's element of subjctive interpretative exercise, must be explained\n",
    "\n",
    "The generic logic presented as query:\n",
    "\n",
    "- ('energy' AND ('communit*', positive', OR 'district*' OR 'neighbo?rhood*' OR 'building*') OR ('energy' AND ('consummption' OR 'demand') OR ('positive' AND 'carbon', 'climate'\n",
    "\n",
    "- and additionaly the specific abbreviations and terms were incuded from the literature review, such as: 'NED', 'PED', 'ZED', 'ZEB', 'ZEDs', 'ZEBs', as well as 'social innovation'"
   ]
  },
  {
   "cell_type": "code",
   "execution_count": 3,
   "id": "ee0f992f",
   "metadata": {
    "scrolled": true
   },
   "outputs": [
    {
     "name": "stdout",
     "output_type": "stream",
     "text": [
      "['urban', 'smart', 'community', 'communities', 'buildings', 'building', 'neighborhood', 'neighborhoods', 'district', 'districts', 'neighbourhood', 'neighbourhoods', 'city', 'cities', 'living lab', 'living labs', 'housing', 'social innovation', 'carbon positive', 'net-zero', 'net zero', 'carbon zero', 'energy demand', 'energy consumption', 'positive', 'climate', 'zen', 'ped', 'zebs', 'nzebs', 'zeb', 'nzeb', 'zeds', 'nzeds']\n"
     ]
    }
   ],
   "source": [
    "categories = pd.read_excel('../data/terms_catalogue_query.xls')\n",
    "categories = categories.fillna(method='ffill')\n",
    "categories.columns = ['keywords']\n",
    "\n",
    "primary_keyword = ['energy']\n",
    "keywords_catalogue = list(categories['keywords'])\n",
    "print(keywords_catalogue)"
   ]
  },
  {
   "cell_type": "markdown",
   "id": "d3a1c7fa",
   "metadata": {},
   "source": [
    "### Read CORDIS projects"
   ]
  },
  {
   "cell_type": "markdown",
   "id": "2716335f",
   "metadata": {},
   "source": [
    "cordis project available in *.csv and *.xlsx at https://data.europa.eu/data/datasets/cordish2020projects?locale=en"
   ]
  },
  {
   "cell_type": "markdown",
   "id": "0bc4511a",
   "metadata": {},
   "source": [
    "We import a CORDIS projects"
   ]
  },
  {
   "cell_type": "code",
   "execution_count": 4,
   "id": "5e42d899",
   "metadata": {},
   "outputs": [
    {
     "name": "stdout",
     "output_type": "stream",
     "text": [
      "['urban', 'smart', 'community', 'communities', 'buildings', 'building', 'neighborhood', 'neighborhoods', 'district', 'districts', 'neighbourhood', 'neighbourhoods', 'city', 'cities', 'living lab', 'living labs', 'housing', 'social innovation', 'carbon positive', 'net-zero', 'net zero', 'carbon zero', 'energy demand', 'energy consumption', 'positive', 'climate', 'zen', 'ped', 'zebs', 'nzebs', 'zeb', 'nzeb', 'zeds', 'nzeds']\n"
     ]
    }
   ],
   "source": [
    "cordish2020 = pd.read_csv( '../data/cordis-h2020projects-csv/project.csv', sep=';',error_bad_lines=False)\n",
    "categories = pd.read_excel('../data/terms_catalogue_query.xls')\n",
    "categories = categories.fillna(method='ffill')\n",
    "categories.columns = ['keywords']\n",
    "\n",
    "print(keywords_catalogue)"
   ]
  },
  {
   "cell_type": "markdown",
   "id": "aea3f839",
   "metadata": {},
   "source": [
    "Take some an initial transformation of data in specific DataFrame, such as change of decimal ceparator for numerical values 'totalCost' and 'ecMaxContribution', and transform 'startDate' and 'endDate'  to datetime format (datetime64)"
   ]
  },
  {
   "cell_type": "code",
   "execution_count": 5,
   "id": "41f0b141",
   "metadata": {},
   "outputs": [],
   "source": [
    "cordish2020['totalCost'] = [float(str(i).replace(',', '.')) for i in cordish2020['totalCost']]\n",
    "cordish2020['ecMaxContribution'] = [float(str(i).replace(',', '.')) for i in cordish2020['ecMaxContribution']]\n",
    "cordish2020['objective'] = [str(i) for i in cordish2020['objective']]\n",
    "cordish2020['startDate'] = cordish2020['startDate'].map(pd.Timestamp)\n",
    "cordish2020['endDate'] = cordish2020['endDate'].map(pd.Timestamp)"
   ]
  },
  {
   "cell_type": "markdown",
   "id": "284a6698",
   "metadata": {},
   "source": [
    "Checking of the available columns and elements in DataFrame output"
   ]
  },
  {
   "cell_type": "code",
   "execution_count": 6,
   "id": "81fd089d",
   "metadata": {},
   "outputs": [
    {
     "data": {
      "text/plain": [
       "Index(['id', 'acronym', 'status', 'title', 'startDate', 'endDate', 'totalCost',\n",
       "       'ecMaxContribution', 'legalBasis', 'topics', 'ecSignatureDate',\n",
       "       'frameworkProgramme', 'masterCall', 'subCall', 'fundingScheme',\n",
       "       'nature', 'objective', 'contentUpdateDate', 'rcn'],\n",
       "      dtype='object')"
      ]
     },
     "execution_count": 6,
     "metadata": {},
     "output_type": "execute_result"
    }
   ],
   "source": [
    "cordish2020.columns"
   ]
  },
  {
   "cell_type": "code",
   "execution_count": 7,
   "id": "84a8716b",
   "metadata": {},
   "outputs": [
    {
     "data": {
      "text/html": [
       "<div>\n",
       "<style scoped>\n",
       "    .dataframe tbody tr th:only-of-type {\n",
       "        vertical-align: middle;\n",
       "    }\n",
       "\n",
       "    .dataframe tbody tr th {\n",
       "        vertical-align: top;\n",
       "    }\n",
       "\n",
       "    .dataframe thead th {\n",
       "        text-align: right;\n",
       "    }\n",
       "</style>\n",
       "<table border=\"1\" class=\"dataframe\">\n",
       "  <thead>\n",
       "    <tr style=\"text-align: right;\">\n",
       "      <th></th>\n",
       "      <th>id</th>\n",
       "      <th>acronym</th>\n",
       "      <th>status</th>\n",
       "      <th>title</th>\n",
       "      <th>startDate</th>\n",
       "      <th>endDate</th>\n",
       "      <th>totalCost</th>\n",
       "      <th>ecMaxContribution</th>\n",
       "      <th>legalBasis</th>\n",
       "      <th>topics</th>\n",
       "      <th>ecSignatureDate</th>\n",
       "      <th>frameworkProgramme</th>\n",
       "      <th>masterCall</th>\n",
       "      <th>subCall</th>\n",
       "      <th>fundingScheme</th>\n",
       "      <th>nature</th>\n",
       "      <th>objective</th>\n",
       "      <th>contentUpdateDate</th>\n",
       "      <th>rcn</th>\n",
       "    </tr>\n",
       "  </thead>\n",
       "  <tbody>\n",
       "    <tr>\n",
       "      <th>0</th>\n",
       "      <td>813360</td>\n",
       "      <td>4D_REEF</td>\n",
       "      <td>SIGNED</td>\n",
       "      <td>Past, present and future of turbid reefs in th...</td>\n",
       "      <td>2019-09-01</td>\n",
       "      <td>2023-08-31</td>\n",
       "      <td>4039155.72</td>\n",
       "      <td>4039155.72</td>\n",
       "      <td>H2020-EU.1.3.</td>\n",
       "      <td>MSCA-ITN-2018</td>\n",
       "      <td>2019-05-06</td>\n",
       "      <td>H2020</td>\n",
       "      <td>H2020-MSCA-ITN-2018</td>\n",
       "      <td>H2020-MSCA-ITN-2018</td>\n",
       "      <td>MSCA-ITN-ETN</td>\n",
       "      <td>NaN</td>\n",
       "      <td>Coral reefs are the economically most highly v...</td>\n",
       "      <td>2021-11-16 10:01:02</td>\n",
       "      <td>223180</td>\n",
       "    </tr>\n",
       "    <tr>\n",
       "      <th>1</th>\n",
       "      <td>754589</td>\n",
       "      <td>ATLASplus</td>\n",
       "      <td>SIGNED</td>\n",
       "      <td>Advanced Structural Integrity Assessment Tools...</td>\n",
       "      <td>2017-06-01</td>\n",
       "      <td>2021-11-30</td>\n",
       "      <td>7195162.59</td>\n",
       "      <td>3930863.92</td>\n",
       "      <td>H2020-Euratom</td>\n",
       "      <td>NFRP-1</td>\n",
       "      <td>2017-05-19</td>\n",
       "      <td>H2020</td>\n",
       "      <td>NFRP-2016-2017</td>\n",
       "      <td>NFRP-2016-2017-1</td>\n",
       "      <td>RIA</td>\n",
       "      <td>NaN</td>\n",
       "      <td>NFRP 1: 2016-2017 notes that “A number of curr...</td>\n",
       "      <td>2021-11-18 17:26:33</td>\n",
       "      <td>210827</td>\n",
       "    </tr>\n",
       "    <tr>\n",
       "      <th>2</th>\n",
       "      <td>851725</td>\n",
       "      <td>DONNI</td>\n",
       "      <td>SIGNED</td>\n",
       "      <td>Developmental Origins: exploring the Nature-Nu...</td>\n",
       "      <td>2020-09-01</td>\n",
       "      <td>2025-08-31</td>\n",
       "      <td>1498767.00</td>\n",
       "      <td>1498767.00</td>\n",
       "      <td>NaN</td>\n",
       "      <td>ERC-2019-STG</td>\n",
       "      <td>NaN</td>\n",
       "      <td>H2020</td>\n",
       "      <td>NaN</td>\n",
       "      <td>ERC-2019-STG</td>\n",
       "      <td>ERC-STG</td>\n",
       "      <td>NaN</td>\n",
       "      <td>The “Developmental Origins of Health and Disea...</td>\n",
       "      <td>2019-10-09 10:14:23</td>\n",
       "      <td>225458</td>\n",
       "    </tr>\n",
       "    <tr>\n",
       "      <th>3</th>\n",
       "      <td>725042</td>\n",
       "      <td>SEAL</td>\n",
       "      <td>SIGNED</td>\n",
       "      <td>Sound and Early Assessment of Leakage for Embe...</td>\n",
       "      <td>2017-09-01</td>\n",
       "      <td>2023-08-31</td>\n",
       "      <td>1946995.00</td>\n",
       "      <td>1946995.00</td>\n",
       "      <td>NaN</td>\n",
       "      <td>ERC-2016-COG</td>\n",
       "      <td>NaN</td>\n",
       "      <td>H2020</td>\n",
       "      <td>NaN</td>\n",
       "      <td>ERC-2016-COG</td>\n",
       "      <td>ERC-COG</td>\n",
       "      <td>NaN</td>\n",
       "      <td>Side channel attacks use, alongside informatio...</td>\n",
       "      <td>2019-11-27 12:35:55</td>\n",
       "      <td>209920</td>\n",
       "    </tr>\n",
       "    <tr>\n",
       "      <th>4</th>\n",
       "      <td>818859</td>\n",
       "      <td>TechChange</td>\n",
       "      <td>SIGNED</td>\n",
       "      <td>Technological Change: New Sources, Consequence...</td>\n",
       "      <td>2019-05-01</td>\n",
       "      <td>2024-04-30</td>\n",
       "      <td>1268900.00</td>\n",
       "      <td>1268900.00</td>\n",
       "      <td>NaN</td>\n",
       "      <td>ERC-2018-COG</td>\n",
       "      <td>NaN</td>\n",
       "      <td>H2020</td>\n",
       "      <td>NaN</td>\n",
       "      <td>ERC-2018-COG</td>\n",
       "      <td>ERC-COG</td>\n",
       "      <td>NaN</td>\n",
       "      <td>Technological change in information technology...</td>\n",
       "      <td>2020-08-07 14:17:01</td>\n",
       "      <td>220884</td>\n",
       "    </tr>\n",
       "  </tbody>\n",
       "</table>\n",
       "</div>"
      ],
      "text/plain": [
       "       id     acronym  status  \\\n",
       "0  813360     4D_REEF  SIGNED   \n",
       "1  754589   ATLASplus  SIGNED   \n",
       "2  851725       DONNI  SIGNED   \n",
       "3  725042        SEAL  SIGNED   \n",
       "4  818859  TechChange  SIGNED   \n",
       "\n",
       "                                               title  startDate    endDate  \\\n",
       "0  Past, present and future of turbid reefs in th... 2019-09-01 2023-08-31   \n",
       "1  Advanced Structural Integrity Assessment Tools... 2017-06-01 2021-11-30   \n",
       "2  Developmental Origins: exploring the Nature-Nu... 2020-09-01 2025-08-31   \n",
       "3  Sound and Early Assessment of Leakage for Embe... 2017-09-01 2023-08-31   \n",
       "4  Technological Change: New Sources, Consequence... 2019-05-01 2024-04-30   \n",
       "\n",
       "    totalCost  ecMaxContribution     legalBasis         topics  \\\n",
       "0  4039155.72         4039155.72  H2020-EU.1.3.  MSCA-ITN-2018   \n",
       "1  7195162.59         3930863.92  H2020-Euratom         NFRP-1   \n",
       "2  1498767.00         1498767.00            NaN   ERC-2019-STG   \n",
       "3  1946995.00         1946995.00            NaN   ERC-2016-COG   \n",
       "4  1268900.00         1268900.00            NaN   ERC-2018-COG   \n",
       "\n",
       "  ecSignatureDate frameworkProgramme           masterCall  \\\n",
       "0      2019-05-06              H2020  H2020-MSCA-ITN-2018   \n",
       "1      2017-05-19              H2020       NFRP-2016-2017   \n",
       "2             NaN              H2020                  NaN   \n",
       "3             NaN              H2020                  NaN   \n",
       "4             NaN              H2020                  NaN   \n",
       "\n",
       "               subCall fundingScheme nature  \\\n",
       "0  H2020-MSCA-ITN-2018  MSCA-ITN-ETN    NaN   \n",
       "1     NFRP-2016-2017-1           RIA    NaN   \n",
       "2         ERC-2019-STG       ERC-STG    NaN   \n",
       "3         ERC-2016-COG       ERC-COG    NaN   \n",
       "4         ERC-2018-COG       ERC-COG    NaN   \n",
       "\n",
       "                                           objective    contentUpdateDate  \\\n",
       "0  Coral reefs are the economically most highly v...  2021-11-16 10:01:02   \n",
       "1  NFRP 1: 2016-2017 notes that “A number of curr...  2021-11-18 17:26:33   \n",
       "2  The “Developmental Origins of Health and Disea...  2019-10-09 10:14:23   \n",
       "3  Side channel attacks use, alongside informatio...  2019-11-27 12:35:55   \n",
       "4  Technological change in information technology...  2020-08-07 14:17:01   \n",
       "\n",
       "      rcn  \n",
       "0  223180  \n",
       "1  210827  \n",
       "2  225458  \n",
       "3  209920  \n",
       "4  220884  "
      ]
     },
     "execution_count": 7,
     "metadata": {},
     "output_type": "execute_result"
    }
   ],
   "source": [
    "cordish2020.head(5)"
   ]
  },
  {
   "cell_type": "markdown",
   "id": "ce6bf79f",
   "metadata": {},
   "source": [
    "Total number of imported projects from CORDIS database"
   ]
  },
  {
   "cell_type": "code",
   "execution_count": 8,
   "id": "18cf2197",
   "metadata": {},
   "outputs": [
    {
     "data": {
      "text/plain": [
       "35325"
      ]
     },
     "execution_count": 8,
     "metadata": {},
     "output_type": "execute_result"
    }
   ],
   "source": [
    "len(cordish2020)"
   ]
  },
  {
   "cell_type": "code",
   "execution_count": 9,
   "id": "1882b2a0",
   "metadata": {},
   "outputs": [
    {
     "data": {
      "text/plain": [
       "'We have created a high performance, ultra-light and ultra strong carbon nanotube (CNT) film electrical heaters. Compared to traditional heating materials, they are super fast (reach the terminal temperature in less than (1/4s), lighter (100x), resistant to corrosion (concentrated acids do not affect them) and cheaper (a fraction of the cost). The heaters are fully scalable from nano-sized devices to full size applications on commercial aircrafts. Previous experiments involved a range of material sizes, from transformations on a molecular level to rapid de-icing of a model aircraft . The performance of the heaters revealed a12,000,000% advantage by weight over the current most common heating alternative: resistive wires made of nickelchromiumalloy. In this proposal, we show how this invention could alleviate the problem of aircraft de-icing.'"
      ]
     },
     "execution_count": 9,
     "metadata": {},
     "output_type": "execute_result"
    }
   ],
   "source": [
    "cordish2020.loc[17]['objective'] # test the objective output"
   ]
  },
  {
   "cell_type": "markdown",
   "id": "4f988574",
   "metadata": {},
   "source": [
    "### 3. Text KeyWord SEARCHING"
   ]
  },
  {
   "cell_type": "markdown",
   "id": "8f1b3ffd",
   "metadata": {},
   "source": [
    "The goal is to make a preliminary broad filtering of the projects by title"
   ]
  },
  {
   "cell_type": "code",
   "execution_count": 10,
   "id": "ad0e7ab3",
   "metadata": {},
   "outputs": [],
   "source": [
    "from flashtext import KeywordProcessor"
   ]
  },
  {
   "cell_type": "markdown",
   "id": "a9e42f0e",
   "metadata": {},
   "source": [
    "Function that will produce as output a list(aka column vector) of mathed items from terms catalogue by means of KeywordProcessor()"
   ]
  },
  {
   "cell_type": "code",
   "execution_count": 11,
   "id": "4cb45482",
   "metadata": {},
   "outputs": [],
   "source": [
    "def extract(vec, dictionary, info=False):\n",
    "    empty = []\n",
    "    for line in vec:\n",
    "        empty.append(dictionary.extract_keywords(line, span_info=info))\n",
    "    return empty"
   ]
  },
  {
   "cell_type": "markdown",
   "id": "5e5aff54",
   "metadata": {},
   "source": [
    "The two blocks below aimed to take a spacified term_cataloge as a *dictionary*, and with a help of flashtext KeywordProcessor() we itarative the project objective and title columns by passing the arguments to our specified function extract() where each cell in respective column iterated on particular matches with the *dictionary* and returned as array of mathed terms."
   ]
  },
  {
   "cell_type": "markdown",
   "id": "93aae15a",
   "metadata": {},
   "source": [
    "**First layer - Primary filtraion by \"energy\" in title and objective**"
   ]
  },
  {
   "cell_type": "code",
   "execution_count": 12,
   "id": "62ae6f3c",
   "metadata": {},
   "outputs": [],
   "source": [
    "dictionary1 = KeywordProcessor()\n",
    "dictionary1.add_keywords_from_list(primary_keyword)\n",
    "extracted1 = extract(cordish2020['objective'], dictionary1)\n",
    "cordish2020['energy_in_obj'] = [list(set(i)) if len(i)>0 else '' for i in extracted1]\n",
    "cordish2020['count_energy_in_obj'] = [len(i) for i in extracted1]\n",
    "\n",
    "extracted2 = extract(cordish2020['title'], dictionary1)\n",
    "cordish2020['energy_in_title'] = [list(set(i)) if len(i)>0 else '' for i in extracted2]\n",
    "cordish2020['count_energy_in_title'] = [len(i) for i in extracted2]\n"
   ]
  },
  {
   "cell_type": "code",
   "execution_count": 13,
   "id": "527c9a8b",
   "metadata": {},
   "outputs": [],
   "source": [
    "cordish2020matches = cordish2020[(cordish2020['count_energy_in_obj'] > 0 ) | (cordish2020['count_energy_in_title'] > 0 )  ] "
   ]
  },
  {
   "cell_type": "code",
   "execution_count": 14,
   "id": "6dbea779",
   "metadata": {},
   "outputs": [
    {
     "data": {
      "text/plain": [
       "6020"
      ]
     },
     "execution_count": 14,
     "metadata": {},
     "output_type": "execute_result"
    }
   ],
   "source": [
    "len(cordish2020matches)"
   ]
  },
  {
   "cell_type": "markdown",
   "id": "2ee86e9f",
   "metadata": {},
   "source": [
    "**Second layer - secondary filtrarion by keywords**"
   ]
  },
  {
   "cell_type": "code",
   "execution_count": 15,
   "id": "8f33c4b5",
   "metadata": {},
   "outputs": [],
   "source": [
    "dictionary2 = KeywordProcessor()\n",
    "dictionary2.add_keywords_from_list(keywords_catalogue)\n",
    "extracted2 = extract(cordish2020matches['objective'], dictionary2)\n",
    "cordish2020matches['matches_keywords_in_objective'] = [list(set(i)) if len(i)>0 else '' for i in extracted2]\n",
    "cordish2020matches['count_matches_keywords_in_objective'] = [len(i) for i in extracted2]\n",
    "#cordish2020['count_unique_term_in_title'] = [len(set(i)) for i in extracted2]\n",
    "cordish2020matches['count_keywords_mathes']= [len(row) for index,row in cordish2020matches['matches_keywords_in_objective'].iteritems()]"
   ]
  },
  {
   "cell_type": "code",
   "execution_count": 16,
   "id": "ec0a1939",
   "metadata": {},
   "outputs": [],
   "source": [
    "cordish2020matches['durationM'] = ((cordish2020matches['endDate'] - cordish2020matches['startDate'])/np.timedelta64(1, 'M')).round(0)"
   ]
  },
  {
   "cell_type": "code",
   "execution_count": 17,
   "id": "cbc994b2",
   "metadata": {},
   "outputs": [],
   "source": [
    "cordish2020matches_filtered=cordish2020matches[(cordish2020matches['count_keywords_mathes'] > 1 )] "
   ]
  },
  {
   "cell_type": "code",
   "execution_count": 18,
   "id": "c4b4d761",
   "metadata": {},
   "outputs": [
    {
     "data": {
      "text/html": [
       "<div>\n",
       "<style scoped>\n",
       "    .dataframe tbody tr th:only-of-type {\n",
       "        vertical-align: middle;\n",
       "    }\n",
       "\n",
       "    .dataframe tbody tr th {\n",
       "        vertical-align: top;\n",
       "    }\n",
       "\n",
       "    .dataframe thead th {\n",
       "        text-align: right;\n",
       "    }\n",
       "</style>\n",
       "<table border=\"1\" class=\"dataframe\">\n",
       "  <thead>\n",
       "    <tr style=\"text-align: right;\">\n",
       "      <th></th>\n",
       "      <th>acronym</th>\n",
       "      <th>title</th>\n",
       "      <th>id</th>\n",
       "      <th>objective</th>\n",
       "      <th>startDate</th>\n",
       "      <th>endDate</th>\n",
       "      <th>status</th>\n",
       "      <th>ecMaxContribution</th>\n",
       "      <th>totalCost</th>\n",
       "      <th>durationM</th>\n",
       "      <th>energy_in_obj</th>\n",
       "      <th>count_energy_in_obj</th>\n",
       "      <th>energy_in_title</th>\n",
       "      <th>matches_keywords_in_objective</th>\n",
       "      <th>count_keywords_mathes</th>\n",
       "    </tr>\n",
       "  </thead>\n",
       "  <tbody>\n",
       "    <tr>\n",
       "      <th>58</th>\n",
       "      <td>MiniStor</td>\n",
       "      <td>Minimal Size Thermal and Electrical Energy Sto...</td>\n",
       "      <td>869821</td>\n",
       "      <td>The EU building stock has large potential to i...</td>\n",
       "      <td>2019-11-01</td>\n",
       "      <td>2024-04-30</td>\n",
       "      <td>SIGNED</td>\n",
       "      <td>7537745.07</td>\n",
       "      <td>8532202.24</td>\n",
       "      <td>54.0</td>\n",
       "      <td>[energy]</td>\n",
       "      <td>8</td>\n",
       "      <td>[energy]</td>\n",
       "      <td>[smart, energy consumption, buildings, building]</td>\n",
       "      <td>4</td>\n",
       "    </tr>\n",
       "    <tr>\n",
       "      <th>62</th>\n",
       "      <td>TETRAMAX</td>\n",
       "      <td>TEchnology TRAnsfer via Multinational Applicat...</td>\n",
       "      <td>761349</td>\n",
       "      <td>The major objective of TETRAMAX is to provide ...</td>\n",
       "      <td>2017-09-01</td>\n",
       "      <td>2021-12-31</td>\n",
       "      <td>SIGNED</td>\n",
       "      <td>6997273.75</td>\n",
       "      <td>7196131.73</td>\n",
       "      <td>52.0</td>\n",
       "      <td>[energy]</td>\n",
       "      <td>2</td>\n",
       "      <td></td>\n",
       "      <td>[smart, building]</td>\n",
       "      <td>2</td>\n",
       "    </tr>\n",
       "    <tr>\n",
       "      <th>135</th>\n",
       "      <td>NATCONSUMERS</td>\n",
       "      <td>NATural Language Energy for Promoting CONSUMER...</td>\n",
       "      <td>657672</td>\n",
       "      <td>Residential energy consumption represents the ...</td>\n",
       "      <td>2015-05-01</td>\n",
       "      <td>2017-06-30</td>\n",
       "      <td>CLOSED</td>\n",
       "      <td>2032528.75</td>\n",
       "      <td>2048278.75</td>\n",
       "      <td>26.0</td>\n",
       "      <td>[energy]</td>\n",
       "      <td>10</td>\n",
       "      <td>[energy]</td>\n",
       "      <td>[communities, energy consumption, buildings]</td>\n",
       "      <td>3</td>\n",
       "    </tr>\n",
       "    <tr>\n",
       "      <th>228</th>\n",
       "      <td>EOLI FPS</td>\n",
       "      <td>Roof top wind turbine for urban areas</td>\n",
       "      <td>816706</td>\n",
       "      <td>High electricity prices and the lowering costs...</td>\n",
       "      <td>2018-05-01</td>\n",
       "      <td>2018-08-31</td>\n",
       "      <td>CLOSED</td>\n",
       "      <td>50000.00</td>\n",
       "      <td>71429.00</td>\n",
       "      <td>4.0</td>\n",
       "      <td>[energy]</td>\n",
       "      <td>8</td>\n",
       "      <td></td>\n",
       "      <td>[urban, nzeb, energy consumption, buildings]</td>\n",
       "      <td>4</td>\n",
       "    </tr>\n",
       "    <tr>\n",
       "      <th>325</th>\n",
       "      <td>mySMARTLife</td>\n",
       "      <td>Smart Transition of EU cities towards a new co...</td>\n",
       "      <td>731297</td>\n",
       "      <td>mySMARTLife project aims at the development of...</td>\n",
       "      <td>2016-12-01</td>\n",
       "      <td>2021-11-30</td>\n",
       "      <td>SIGNED</td>\n",
       "      <td>18656102.41</td>\n",
       "      <td>21191771.50</td>\n",
       "      <td>60.0</td>\n",
       "      <td>[energy]</td>\n",
       "      <td>1</td>\n",
       "      <td></td>\n",
       "      <td>[smart, cities, climate, city, urban]</td>\n",
       "      <td>5</td>\n",
       "    </tr>\n",
       "  </tbody>\n",
       "</table>\n",
       "</div>"
      ],
      "text/plain": [
       "          acronym                                              title      id  \\\n",
       "58       MiniStor  Minimal Size Thermal and Electrical Energy Sto...  869821   \n",
       "62       TETRAMAX  TEchnology TRAnsfer via Multinational Applicat...  761349   \n",
       "135  NATCONSUMERS  NATural Language Energy for Promoting CONSUMER...  657672   \n",
       "228      EOLI FPS              Roof top wind turbine for urban areas  816706   \n",
       "325   mySMARTLife  Smart Transition of EU cities towards a new co...  731297   \n",
       "\n",
       "                                             objective  startDate    endDate  \\\n",
       "58   The EU building stock has large potential to i... 2019-11-01 2024-04-30   \n",
       "62   The major objective of TETRAMAX is to provide ... 2017-09-01 2021-12-31   \n",
       "135  Residential energy consumption represents the ... 2015-05-01 2017-06-30   \n",
       "228  High electricity prices and the lowering costs... 2018-05-01 2018-08-31   \n",
       "325  mySMARTLife project aims at the development of... 2016-12-01 2021-11-30   \n",
       "\n",
       "     status  ecMaxContribution    totalCost  durationM energy_in_obj  \\\n",
       "58   SIGNED         7537745.07   8532202.24       54.0      [energy]   \n",
       "62   SIGNED         6997273.75   7196131.73       52.0      [energy]   \n",
       "135  CLOSED         2032528.75   2048278.75       26.0      [energy]   \n",
       "228  CLOSED           50000.00     71429.00        4.0      [energy]   \n",
       "325  SIGNED        18656102.41  21191771.50       60.0      [energy]   \n",
       "\n",
       "     count_energy_in_obj energy_in_title  \\\n",
       "58                     8        [energy]   \n",
       "62                     2                   \n",
       "135                   10        [energy]   \n",
       "228                    8                   \n",
       "325                    1                   \n",
       "\n",
       "                        matches_keywords_in_objective  count_keywords_mathes  \n",
       "58   [smart, energy consumption, buildings, building]                      4  \n",
       "62                                  [smart, building]                      2  \n",
       "135      [communities, energy consumption, buildings]                      3  \n",
       "228      [urban, nzeb, energy consumption, buildings]                      4  \n",
       "325             [smart, cities, climate, city, urban]                      5  "
      ]
     },
     "execution_count": 18,
     "metadata": {},
     "output_type": "execute_result"
    }
   ],
   "source": [
    "cordish2020matches_filtered[['acronym', 'title','id','objective', 'startDate','endDate', 'status','ecMaxContribution', 'totalCost',\n",
    "                    'durationM', 'energy_in_obj', 'count_energy_in_obj', 'energy_in_title','matches_keywords_in_objective','count_keywords_mathes' ]].head(5)"
   ]
  },
  {
   "cell_type": "code",
   "execution_count": 19,
   "id": "3e87f208",
   "metadata": {},
   "outputs": [
    {
     "data": {
      "text/plain": [
       "1229"
      ]
     },
     "execution_count": 19,
     "metadata": {},
     "output_type": "execute_result"
    }
   ],
   "source": [
    "len(cordish2020matches_filtered)"
   ]
  },
  {
   "cell_type": "markdown",
   "id": "a771bdfe",
   "metadata": {},
   "source": [
    "**Write a results into the .csv file**"
   ]
  },
  {
   "cell_type": "code",
   "execution_count": 20,
   "id": "365a4bb5",
   "metadata": {},
   "outputs": [],
   "source": [
    "results_keywordSearch=cordish2020matches_filtered[['acronym', 'title','id', 'objective', 'startDate','endDate',  \n",
    "                                                   'durationM', 'status','ecMaxContribution', 'totalCost',\n",
    "                    'energy_in_obj', 'energy_in_title','count_keywords_mathes' ]]\n",
    "results_keywordSearch.to_csv('../data/resultsCORDIS_keywordSearch_18.02.csv')"
   ]
  },
  {
   "cell_type": "markdown",
   "id": "ca7f5ced",
   "metadata": {},
   "source": [
    "We put a matches into the separate column:"
   ]
  },
  {
   "cell_type": "code",
   "execution_count": 21,
   "id": "46f9bb01",
   "metadata": {},
   "outputs": [
    {
     "name": "stdout",
     "output_type": "stream",
     "text": [
      "Stored 'results_keywordSearch' (DataFrame)\n"
     ]
    }
   ],
   "source": [
    "%store results_keywordSearch"
   ]
  },
  {
   "cell_type": "markdown",
   "id": "ae3e9d2f",
   "metadata": {},
   "source": [
    "### 4. Building list of terms"
   ]
  },
  {
   "cell_type": "markdown",
   "id": "88688ba2",
   "metadata": {},
   "source": [
    "Install and import additional libraries for NLP and englih stopwords "
   ]
  },
  {
   "cell_type": "code",
   "execution_count": 22,
   "id": "25aa3687",
   "metadata": {},
   "outputs": [
    {
     "name": "stderr",
     "output_type": "stream",
     "text": [
      "[nltk_data] Downloading package punkt to\n",
      "[nltk_data]     C:\\Users\\oleksandr.husiev\\AppData\\Roaming\\nltk_data...\n",
      "[nltk_data]   Package punkt is already up-to-date!\n",
      "[nltk_data] Downloading package stopwords to\n",
      "[nltk_data]     C:\\Users\\oleksandr.husiev\\AppData\\Roaming\\nltk_data...\n",
      "[nltk_data]   Package stopwords is already up-to-date!\n"
     ]
    },
    {
     "data": {
      "text/plain": [
       "True"
      ]
     },
     "execution_count": 22,
     "metadata": {},
     "output_type": "execute_result"
    }
   ],
   "source": [
    "import re\n",
    "import nltk\n",
    "nltk.download('punkt')\n",
    "from nltk.corpus import stopwords\n",
    "nltk.download('stopwords')"
   ]
  },
  {
   "cell_type": "markdown",
   "id": "8f3c88bd",
   "metadata": {},
   "source": [
    "Specifying the list of stop_words and additional_stopwords"
   ]
  },
  {
   "cell_type": "code",
   "execution_count": 23,
   "id": "81088b01",
   "metadata": {
    "scrolled": true
   },
   "outputs": [
    {
     "name": "stdout",
     "output_type": "stream",
     "text": [
      "['i', 'me', 'my', 'myself', 'we', 'our', 'ours', 'ourselves', 'you', \"you're\", \"you've\", \"you'll\", \"you'd\", 'your', 'yours', 'yourself', 'yourselves', 'he', 'him', 'his', 'himself', 'she', \"she's\", 'her', 'hers', 'herself', 'it', \"it's\", 'its', 'itself', 'they', 'them', 'their', 'theirs', 'themselves', 'what', 'which', 'who', 'whom', 'this', 'that', \"that'll\", 'these', 'those', 'am', 'is', 'are', 'was', 'were', 'be', 'been', 'being', 'have', 'has', 'had', 'having', 'do', 'does', 'did', 'doing', 'a', 'an', 'the', 'and', 'but', 'if', 'or', 'because', 'as', 'until', 'while', 'of', 'at', 'by', 'for', 'with', 'about', 'against', 'between', 'into', 'through', 'during', 'before', 'after', 'above', 'below', 'to', 'from', 'up', 'down', 'in', 'out', 'on', 'off', 'over', 'under', 'again', 'further', 'then', 'once', 'here', 'there', 'when', 'where', 'why', 'how', 'all', 'any', 'both', 'each', 'few', 'more', 'most', 'other', 'some', 'such', 'no', 'nor', 'not', 'only', 'own', 'same', 'so', 'than', 'too', 'very', 's', 't', 'can', 'will', 'just', 'don', \"don't\", 'should', \"should've\", 'now', 'd', 'll', 'm', 'o', 're', 've', 'y', 'ain', 'aren', \"aren't\", 'couldn', \"couldn't\", 'didn', \"didn't\", 'doesn', \"doesn't\", 'hadn', \"hadn't\", 'hasn', \"hasn't\", 'haven', \"haven't\", 'isn', \"isn't\", 'ma', 'mightn', \"mightn't\", 'mustn', \"mustn't\", 'needn', \"needn't\", 'shan', \"shan't\", 'shouldn', \"shouldn't\", 'wasn', \"wasn't\", 'weren', \"weren't\", 'won', \"won't\", 'wouldn', \"wouldn't\", 'aam', 'abacu', 'abat', 'abd', 'ac', 'abi', 'abid', 'aabc', 'abnj', 'siderwin', 'µmole', 'µm', 'abm', 'abnorm', 'abora', 'abound', 'abra', 'abracadabra', 'abras', 'abruzzo', 'absent', 'absolut', 'absorb', 'abstract', 'abus', 'acai', 'acasia', 'accentu', 'accept', 'accid', 'acciona', 'acclaim', 'accord', 'accordingli', 'account', 'accredit', 'accret', 'accumul', 'accur', 'accuraci', 'ace', 'acem', 'acer', 'acet', 'achiev', 'achievedresult', 'acid', 'acm', 'aac', 'zsi', 'zurich', 'zürich', 'züst', 'µsofc', 'æneam', 'µurawlów', 'µchp', 'µorc', 'µsofc', 'abb', 'abelian', 'aberdeen', 'aberr', 'abli', 'abno', 'abx', 'znsn', 'zonal', 'zone', 'zonif', 'zoom', 'zorzano', 'µurawlów', 'µchp', 'µorc', 'µsofc', 'aa', 'aac', 'aam', 'ab', 'abacu', 'abat', 'abb', 'abd', 'abelian', 'aberdeen', 'µsofc', 'ºc', 'æneam', 'zurawlów', '?', 'µchp', 'µm', 'µorc', 'µsofc', 'ss', 'thi', 'project', 'aim', 'abc', 'e', 'g', 'aal', 'abandon', 'abil', 'abiot', 'abl', 'ablat', 'ablegam', 'abopen', 'abort', 'abov', 'abroad', 'absenc', 'absorpt', 'abund', 'whose', 'take', 'aaat', 'aacct', 'aachen', 'aad', 'aaiw', 'aalborg', 'aalto', 'aanchor', 'aarhu', 'aarniovuori', 'co', 'ha', '?c']\n"
     ]
    }
   ],
   "source": [
    "import csv\n",
    "with open('../data/additional_stopwords.csv', 'r',  encoding=\"latin1\") as f:\n",
    "    reader = csv.reader(f)\n",
    "    noizy_words_for_additional_stopwords = list (reader)\n",
    "additional_stopwords = [item for sublist in noizy_words_for_additional_stopwords for item in sublist]\n",
    "sw = stopwords.words(\"english\")+additional_stopwords\n",
    "print (sw)"
   ]
  },
  {
   "cell_type": "markdown",
   "id": "b67d5dbb",
   "metadata": {},
   "source": [
    "**Tokenization Function (Plus Lemanization and Stemming)**"
   ]
  },
  {
   "cell_type": "markdown",
   "id": "2d9f9096",
   "metadata": {},
   "source": [
    "This is the vertion of tokenizer that takes either Series type or string by checking iF statement with `isinstance()`, boolean request for stemmer and an array of a stop words, and produce as output the list of all tokens (i.e. words from the whole column processed as single string) at the same time removing too short tokens with less than 1 character."
   ]
  },
  {
   "cell_type": "code",
   "execution_count": 24,
   "id": "509f9ab8",
   "metadata": {},
   "outputs": [],
   "source": [
    "from nltk.tokenize import word_tokenize\n",
    "from nltk.stem import PorterStemmer\n",
    "porter_stemmer=PorterStemmer()\n",
    "\n",
    "def only_tokenizer(series, stemmer=True, stop_words=[]):\n",
    "    tokenized_list=[]\n",
    "    if isinstance(series, pd.Series):\n",
    "        text=series.str.cat(sep=' ')\n",
    "    else:\n",
    "        text=series\n",
    "\n",
    "    text = re.sub(r\"http\\S+\", \"\", text) #remove urls\n",
    "    text=re.sub(r'\\S+\\.com\\S+','',text) #remove urls\n",
    "    text=re.sub(r'\\@\\w+','',text) #remove mentions\n",
    "    text =re.sub(r'\\#\\w+','',text) #remove hashtags\n",
    "\n",
    "    text=re.sub(r\"\"\"['’\"`«»]\"\"\", '', text)\n",
    "    text=re.sub(r\"\"\"([0-9])([\\u0400-\\u04FF]|[A-z])\"\"\", r\"\\1 \\2\", text)\n",
    "    text=re.sub(r\"\"\"([\\u0400-\\u04FF]|[A-z])([0-9])\"\"\", r\"\\1 \\2\", text)\n",
    "    text=re.sub(r\"\"\"[\\-–.,!:+*/_]\"\"\", ' ', text)\n",
    "\n",
    "    for word in word_tokenize(text):\n",
    "        if word.isalpha():\n",
    "            word=word.lower()\n",
    "        else:\n",
    "            continue\n",
    "        if stemmer is True:\n",
    "            word=porter_stemmer.stem(word)\n",
    "        if word not in stop_words and len(word)>1:     \n",
    "            tokenized_list.append(word)\n",
    "    return tokenized_list"
   ]
  },
  {
   "cell_type": "markdown",
   "id": "b9bbfd20",
   "metadata": {},
   "source": [
    "#### Tokenization"
   ]
  },
  {
   "cell_type": "markdown",
   "id": "0579f5b0",
   "metadata": {},
   "source": [
    "ONLY Tokenize content of each cell in ['objective'] and put it bain it to corresponding cell ['objective_tokenized']"
   ]
  },
  {
   "cell_type": "code",
   "execution_count": 25,
   "id": "ab329ee1",
   "metadata": {},
   "outputs": [],
   "source": [
    "results_keywordSearch['objective_tokenized'] = [only_tokenizer(i, True, sw) for i in results_keywordSearch['objective']]"
   ]
  },
  {
   "cell_type": "markdown",
   "id": "65cbe14d",
   "metadata": {},
   "source": [
    "Checking tokenizer output"
   ]
  },
  {
   "cell_type": "code",
   "execution_count": 26,
   "id": "b25b7a02",
   "metadata": {},
   "outputs": [
    {
     "name": "stdout",
     "output_type": "stream",
     "text": [
      "The EU building stock has large potential to increase its energy efficiency with solutions that can be integrated to existing dwellings and through different measures. One of them is optimizing the use and management of thermal energy by allowing it to be stored, levelling demand peaks and increasing use of renewables affected by intermittency such as solar-based heating. The MiniStor project aims at designing and producing a novel compact integrated thermal storage system for achieving sustainable heating, cooling and electricity storage that can be adapted to existing systems in residential buildings. It is based on a high-performing CaCl2/NH3 (calcium chloride/ammonia) thermochemical material reaction combined with parallel hot and cold phase-change materials for flexibility and usage year-round. It also stores electrical energy in a Li-ion battery that responds to grid signals and can sell to the electrical grid. The system is managed by a smart Building Energy Management System that connects to the Internet of Things. The system can have as input energy obtained from a variety of renewable energy sources such as hybrid photovoltaic thermal panels. This arrangement is demonstrated and validated in four demonstration sites (Ireland, France, Greece and Hungary), testing its effectiveness at different local climatic conditions and facilitating market replication. The system provides stability, performance and use of at least 20 years, an estimated compact storage material volume of 0.72 m3, reduced net energy consumption in a building by at least 44% and a return-on-investment period of 6.7 years, using high energy density storage materials that reach storage densities up to 10.6 times higher than water.\n",
      "\n",
      "\n",
      "Title of the project:  Minimal Size Thermal and Electrical Energy Storage System for In-Situ Residential Installation\n",
      "\n",
      "\n",
      "['eu', 'build', 'stock', 'larg', 'potenti', 'increas', 'energi', 'effici', 'solut', 'integr', 'exist', 'dwell', 'differ', 'measur', 'one', 'optim', 'use', 'manag', 'thermal', 'energi', 'allow', 'store', 'level', 'demand', 'peak', 'increas', 'use', 'renew', 'affect', 'intermitt', 'solar', 'base', 'heat', 'ministor', 'design', 'produc', 'novel', 'compact', 'integr', 'thermal', 'storag', 'system', 'sustain', 'heat', 'cool', 'electr', 'storag', 'adapt', 'exist', 'system', 'residenti', 'build', 'base', 'high', 'perform', 'cacl', 'nh', 'calcium', 'chlorid', 'ammonia', 'thermochem', 'materi', 'reaction', 'combin', 'parallel', 'hot', 'cold', 'phase', 'chang', 'materi', 'flexibl', 'usag', 'year', 'round', 'also', 'store', 'electr', 'energi', 'li', 'ion', 'batteri', 'respond', 'grid', 'signal', 'sell', 'electr', 'grid', 'system', 'manag', 'smart', 'build', 'energi', 'manag', 'system', 'connect', 'internet', 'thing', 'system', 'input', 'energi', 'obtain', 'varieti', 'renew', 'energi', 'sourc', 'hybrid', 'photovolta', 'thermal', 'panel', 'arrang', 'demonstr', 'valid', 'four', 'demonstr', 'site', 'ireland', 'franc', 'greec', 'hungari', 'test', 'effect', 'differ', 'local', 'climat', 'condit', 'facilit', 'market', 'replic', 'system', 'provid', 'stabil', 'perform', 'use', 'least', 'year', 'estim', 'compact', 'storag', 'materi', 'volum', 'reduc', 'net', 'energi', 'consumpt', 'build', 'least', 'return', 'invest', 'period', 'year', 'use', 'high', 'energi', 'densiti', 'storag', 'materi', 'reach', 'storag', 'densiti', 'time', 'higher', 'water']\n"
     ]
    }
   ],
   "source": [
    "print (results_keywordSearch['objective'][58])\n",
    "print ('\\n')\n",
    "print ('Title of the project: ', results_keywordSearch['title'][58])\n",
    "print ('\\n')\n",
    "print (results_keywordSearch['objective_tokenized'][58])"
   ]
  },
  {
   "cell_type": "markdown",
   "id": "0a373628",
   "metadata": {},
   "source": [
    "### Creation of ngrams"
   ]
  },
  {
   "cell_type": "markdown",
   "id": "8ffde6d8",
   "metadata": {},
   "source": [
    "**Ngrams function**"
   ]
  },
  {
   "cell_type": "markdown",
   "id": "ff64180c",
   "metadata": {},
   "source": [
    "The next block aimed to generate a ngrams (contiguous sequence of n items from a given sample of text) for selecter projects from keyword earch. The primary uni-, bi- and tri- grams are going to be created for a tokens of DataFrame"
   ]
  },
  {
   "cell_type": "markdown",
   "id": "577f4148",
   "metadata": {},
   "source": [
    "Ngrams created from pandas Dataframe in a single line of code, generated by means of nltk.ngrams and presented as bar charts. ngrams\n",
    "We create objective_words applying only_tokenizer to have just a list of all terms as one dimentional list of corpus"
   ]
  },
  {
   "cell_type": "markdown",
   "id": "7c9ba871",
   "metadata": {},
   "source": [
    "#### 1ngram \n",
    "Thus, for unigrams (i.e. single words) we have in a sample of *tokens* out of *total umber*, of which *unique* tokens (after applying  stemmer) are unique. And the share of the 20 most used tokens is about 11% of all tokens available in the dataset."
   ]
  },
  {
   "cell_type": "code",
   "execution_count": 27,
   "id": "caebf37a",
   "metadata": {},
   "outputs": [
    {
     "name": "stdout",
     "output_type": "stream",
     "text": [
      "Length of the objective_words list: 211730\n",
      "Length of the objective_words_unique list: 9626\n"
     ]
    }
   ],
   "source": [
    "objective_words = only_tokenizer(results_keywordSearch['objective'], True, sw)\n",
    "print('Length of the objective_words list: {}'. format(len (objective_words)))\n",
    "objective_words_unique=[]\n",
    "for word in objective_words:\n",
    "    if word not in objective_words_unique:\n",
    "        objective_words_unique.append(word)\n",
    "print('Length of the objective_words_unique list: {}'. format(len(objective_words_unique)))"
   ]
  },
  {
   "cell_type": "markdown",
   "id": "a297aa97",
   "metadata": {},
   "source": [
    "In one line of code, we can find out which **ngram** occur the most in this particular sample."
   ]
  },
  {
   "cell_type": "code",
   "execution_count": 28,
   "id": "002cfd0a",
   "metadata": {},
   "outputs": [],
   "source": [
    "unigrams_series = (pd.Series(nltk.ngrams(objective_words, 1)).value_counts())[:20]"
   ]
  },
  {
   "cell_type": "code",
   "execution_count": 29,
   "id": "9eb0ae5b",
   "metadata": {},
   "outputs": [
    {
     "data": {
      "text/plain": [
       "Text(0.5, 0, '# of Occurances')"
      ]
     },
     "execution_count": 29,
     "metadata": {},
     "output_type": "execute_result"
    },
    {
     "data": {
      "image/png": "[encoded data removed]",
      "text/plain": [
       "<Figure size 864x576 with 1 Axes>"
      ]
     },
     "metadata": {
      "needs_background": "light"
     },
     "output_type": "display_data"
    }
   ],
   "source": [
    "unigrams_series.sort_values().plot.barh(color='blue', width=.9, figsize=(12, 8))\n",
    "plt.title('20 Most Frequently Occuring Unigrams')\n",
    "plt.ylabel('Unigrams')\n",
    "plt.xlabel('# of Occurances')"
   ]
  },
  {
   "cell_type": "markdown",
   "id": "7028754c",
   "metadata": {},
   "source": [
    "**2ngrams plot**"
   ]
  },
  {
   "cell_type": "code",
   "execution_count": 30,
   "id": "c1aa29ad",
   "metadata": {},
   "outputs": [],
   "source": [
    "bigrams_series = (pd.Series(nltk.ngrams(objective_words, 2)).value_counts())[:20]"
   ]
  },
  {
   "cell_type": "code",
   "execution_count": 31,
   "id": "0e5d7abe",
   "metadata": {},
   "outputs": [
    {
     "data": {
      "text/plain": [
       "Text(0.5, 0, '# of Occurances')"
      ]
     },
     "execution_count": 31,
     "metadata": {},
     "output_type": "execute_result"
    },
    {
     "data": {
      "image/png": "[encoded data removed]",
      "text/plain": [
       "<Figure size 864x576 with 1 Axes>"
      ]
     },
     "metadata": {
      "needs_background": "light"
     },
     "output_type": "display_data"
    }
   ],
   "source": [
    "bigrams_series.sort_values().plot.barh (color='blue', width=.9, figsize=(12, 8))\n",
    "plt.title('20 Most Frequently Occuring Bigrams')\n",
    "plt.ylabel('Bigrams')\n",
    "plt.xlabel('# of Occurances')"
   ]
  },
  {
   "cell_type": "code",
   "execution_count": 32,
   "id": "785b5ab0",
   "metadata": {},
   "outputs": [
    {
     "data": {
      "text/plain": [
       "Text(0.5, 0, '# of Occurances')"
      ]
     },
     "execution_count": 32,
     "metadata": {},
     "output_type": "execute_result"
    },
    {
     "data": {
      "image/png": "[encoded data removed]",
      "text/plain": [
       "<Figure size 864x576 with 1 Axes>"
      ]
     },
     "metadata": {
      "needs_background": "light"
     },
     "output_type": "display_data"
    }
   ],
   "source": [
    "trigrams_series = (pd.Series(nltk.ngrams(objective_words, 3)).value_counts())[:20]\n",
    "trigrams_series.sort_values().plot.barh (color='blue', width=.9, figsize=(12, 8))\n",
    "plt.title('20 Most Frequently Occuring Trigrams')\n",
    "plt.ylabel('Trigram')\n",
    "plt.xlabel('# of Occurances')"
   ]
  },
  {
   "cell_type": "code",
   "execution_count": 33,
   "id": "b714cbc7",
   "metadata": {},
   "outputs": [
    {
     "data": {
      "text/plain": [
       "Text(0.5, 0, '# of Occurances')"
      ]
     },
     "execution_count": 33,
     "metadata": {},
     "output_type": "execute_result"
    },
    {
     "data": {
      "image/png": "[encoded data removed]",
      "text/plain": [
       "<Figure size 864x576 with 1 Axes>"
      ]
     },
     "metadata": {
      "needs_background": "light"
     },
     "output_type": "display_data"
    }
   ],
   "source": [
    "fourgrams_series = (pd.Series(nltk.ngrams(objective_words, 4)).value_counts())[:20]\n",
    "fourgrams_series.sort_values().plot.barh (color='blue', width=.9, figsize=(12, 8))\n",
    "plt.title('20 Most Frequently Occuring Fourgrams')\n",
    "plt.ylabel('Fourgram')\n",
    "plt.xlabel('# of Occurances')"
   ]
  },
  {
   "cell_type": "markdown",
   "id": "75dec830",
   "metadata": {},
   "source": [
    "Let's look at total number of tokens (i.e. terms) and unique tokens in form of uni- bi- tri - grams in one place"
   ]
  },
  {
   "cell_type": "code",
   "execution_count": 34,
   "id": "16d31999",
   "metadata": {},
   "outputs": [
    {
     "name": "stdout",
     "output_type": "stream",
     "text": [
      "Whole terms 1ngrams terms:  211730\n",
      "Unique 1ngrams terms:  9626\n",
      "\n",
      "Whole terms 2ngrams terms:  211729\n",
      "Unique  2ngrams terms:  139133\n",
      "\n",
      "Whole terms 3ngrams terms:  211728\n",
      "Unique 3ngrams terms:  199793\n"
     ]
    }
   ],
   "source": [
    "objective_ngrams1=pd.Series(nltk.ngrams(objective_words, 1))\n",
    "print ('Whole terms 1ngrams terms: ', len(objective_ngrams1))\n",
    "objective_ngrams1=objective_ngrams1.unique()# leave only unique\n",
    "print ('Unique 1ngrams terms: ', len(objective_ngrams1))\n",
    "\n",
    "objective_ngrams2=pd.Series(nltk.ngrams(objective_words, 2))\n",
    "print ('\\nWhole terms 2ngrams terms: ', len(objective_ngrams2))\n",
    "objective_ngrams2=objective_ngrams2.unique()# leave only unique\n",
    "print ('Unique  2ngrams terms: ', len(objective_ngrams2))\n",
    "\n",
    "objective_ngrams3=pd.Series(nltk.ngrams(objective_words, 3))\n",
    "print ('\\nWhole terms 3ngrams terms: ', len(objective_ngrams3))\n",
    "objective_ngrams3=objective_ngrams3.unique() # leave only unique\n",
    "print ('Unique 3ngrams terms: ', len(objective_ngrams3))"
   ]
  },
  {
   "cell_type": "markdown",
   "id": "fbc7d06d",
   "metadata": {},
   "source": [
    "The number of ngrams for selected corpus is volumious. After all, the amount of unique unigrams is 8837 which grows in geometric progression for bi- and tri- grams."
   ]
  },
  {
   "cell_type": "markdown",
   "id": "41bf748f",
   "metadata": {},
   "source": [
    "The *bigrams and trigrams terms considered to be the most adequate for specification of the following classificator*, since the unigrams missing the neighbour word to understand the context, while 4grams provide the set of terms that are useful to understand but it doesn't give additional distinguishing of categories (while the number of combinations increased dramatically).\n",
    "\n",
    "It is clear that: \n",
    "1. This distribution doesn't give a picture and opportunity to generalize the methods, approaches, solution.\n",
    "2. The term frequency processing must be done.\n",
    "3. The list of stop words must be contributed to eliminate the words that still don't have a meaning\n",
    "4. The bigrams and trigrams would be considered as best combinations for specification of terms and categories."
   ]
  },
  {
   "cell_type": "markdown",
   "id": "288914e0",
   "metadata": {},
   "source": [
    "Export of top terms (i.e. Term frequency in ascending order) into the csv file for manual screaning and classification preparation"
   ]
  },
  {
   "cell_type": "code",
   "execution_count": 35,
   "id": "f3b973e9",
   "metadata": {},
   "outputs": [],
   "source": [
    "bigr=pd.Series(nltk.ngrams(objective_words, 1)).value_counts()#[:1000] #example with bigrams\n",
    "df_bigram = pd.DataFrame(index=bigr.index, data=bigr)\n",
    "df_bigram.to_csv('../data/ngrams/unigrams_v1.3.csv')"
   ]
  },
  {
   "cell_type": "markdown",
   "id": "86852682",
   "metadata": {},
   "source": [
    "### Term frequency distribution"
   ]
  },
  {
   "cell_type": "markdown",
   "id": "da19041b",
   "metadata": {},
   "source": [
    "As the whole sample frequency distrition described below doen't give a picture, the term frequency distribution will be created for each project as following:\n",
    "\n",
    "| index            | word0       | word1            | word2               |      ...                          |\n",
    "| ---------------  | ----------- | ---------------- | ------------------- | --------------------------------- |\n",
    "| project index[n] | 1           | 0                | 2                   |      ...                          |\n",
    "|  ...             | ...         | ...              | ...                 |      ...                          |\n",
    "\n",
    "After that created Dataframe will be transposed and the frequency sum of each term will be presented as separate column \n",
    "\n",
    "| index            | proj index[n]       |  proj index[n]   |    proj index[n]    |      ...          | SUM   |\n",
    "| ---------------  | ------------------- | ---------------- | ------------------- | ----------------- | ------|\n",
    "|  word0           | ...                 | ...              | ...                 |      ...          |       |\n",
    "|  word1           | ...                 | ...              | ...                 |      ...          |       |\n",
    "|  word2           | ...                 | ...              | ...                 |      ...          |       |\n",
    "|  ...             | ...                 | ...              | ...                 |      ...          |       |\n"
   ]
  },
  {
   "cell_type": "markdown",
   "id": "c490ba9e",
   "metadata": {},
   "source": [
    "The bag of words frequency would be look like that:"
   ]
  },
  {
   "cell_type": "markdown",
   "id": "26e243a2",
   "metadata": {},
   "source": [
    "We need to create terms frequency table with a data for words and their correcponding frequency"
   ]
  },
  {
   "cell_type": "code",
   "execution_count": 36,
   "id": "d4553d6c",
   "metadata": {},
   "outputs": [
    {
     "name": "stdout",
     "output_type": "stream",
     "text": [
      "Type of objective_ngrams1:  <class 'numpy.ndarray'>\n",
      "Type of objective_ngrams1 element:  <class 'tuple'>\n"
     ]
    }
   ],
   "source": [
    "print ('Type of objective_ngrams1: ', type(objective_ngrams1))\n",
    "#print ('Length of the objective_ngrams1 u 'len (objective_ngrams1)\n",
    "print ('Type of objective_ngrams1 element: ', type(objective_ngrams1[0]))"
   ]
  },
  {
   "cell_type": "markdown",
   "id": "e363cf3a",
   "metadata": {},
   "source": [
    "#### Term frequency and TF-IDF by *Sklearn* library, using *CountVectorizer()* and *TfidfVectorizer()* "
   ]
  },
  {
   "cell_type": "code",
   "execution_count": 37,
   "id": "d919381b",
   "metadata": {},
   "outputs": [],
   "source": [
    "#pip install sklearn\n",
    "from sklearn.feature_extraction.text import CountVectorizer"
   ]
  },
  {
   "cell_type": "markdown",
   "id": "0dbeb2d6",
   "metadata": {},
   "source": [
    "For creation of abovementioned table of term frequency and TF-IDF, we will put the data into the list, which will hold the token of each of our project, being a list of the lists."
   ]
  },
  {
   "cell_type": "code",
   "execution_count": 38,
   "id": "ec99052e",
   "metadata": {},
   "outputs": [],
   "source": [
    "objective_terms_tokenized =[]\n",
    "for j in results_keywordSearch['objective_tokenized']:\n",
    "    objective_terms_tokenized.append(str(j))"
   ]
  },
  {
   "cell_type": "code",
   "execution_count": 39,
   "id": "a84f3b99",
   "metadata": {},
   "outputs": [
    {
     "name": "stdout",
     "output_type": "stream",
     "text": [
      "<class 'list'>\n"
     ]
    }
   ],
   "source": [
    "print (type( objective_terms_tokenized))"
   ]
  },
  {
   "cell_type": "markdown",
   "id": "7754817a",
   "metadata": {},
   "source": [
    "The Term frequency would be presented by the next three blocks for uni- bi- and tri- grams.\n",
    "\n",
    "The list of the lists of terms (of our tokenized objective) will be processed by CountVectorizer(), to generate a vectors of the words (i.e. terms) than the words mane will be assigned as DataFrame.column, matrix of words vector will be assigned as DataFtame.data, and indexes will be assigned from the our results_keywordSearch.index."
   ]
  },
  {
   "cell_type": "markdown",
   "id": "2761791b",
   "metadata": {},
   "source": [
    "The second step is gonna be transponding of our DataFrame and creation of term_freq column that will sum the frequencies of the term in each particular project."
   ]
  },
  {
   "cell_type": "markdown",
   "id": "a33e0525",
   "metadata": {},
   "source": [
    "**Unigrams term frequency**"
   ]
  },
  {
   "cell_type": "code",
   "execution_count": 40,
   "id": "43863f95",
   "metadata": {},
   "outputs": [],
   "source": [
    "BOW_unigram_vectorizer = CountVectorizer()\n",
    "\n",
    "BOW_matrix_unigram = BOW_unigram_vectorizer.fit_transform(objective_terms_tokenized)\n",
    "BOW_terms_unigram=BOW_unigram_vectorizer.get_feature_names()\n",
    "BOW_unigram_freq = BOW_matrix_unigram.toarray()"
   ]
  },
  {
   "cell_type": "code",
   "execution_count": 41,
   "id": "c65c9c9c",
   "metadata": {},
   "outputs": [
    {
     "data": {
      "text/html": [
       "<div>\n",
       "<style scoped>\n",
       "    .dataframe tbody tr th:only-of-type {\n",
       "        vertical-align: middle;\n",
       "    }\n",
       "\n",
       "    .dataframe tbody tr th {\n",
       "        vertical-align: top;\n",
       "    }\n",
       "\n",
       "    .dataframe thead th {\n",
       "        text-align: right;\n",
       "    }\n",
       "</style>\n",
       "<table border=\"1\" class=\"dataframe\">\n",
       "  <thead>\n",
       "    <tr style=\"text-align: right;\">\n",
       "      <th></th>\n",
       "      <th>abreast</th>\n",
       "      <th>abridg</th>\n",
       "      <th>abrupt</th>\n",
       "      <th>abundantli</th>\n",
       "      <th>academ</th>\n",
       "      <th>academi</th>\n",
       "      <th>academia</th>\n",
       "      <th>acceler</th>\n",
       "      <th>acceleromet</th>\n",
       "      <th>accelwat</th>\n",
       "      <th>...</th>\n",
       "      <th>öamtc</th>\n",
       "      <th>żurawlów</th>\n",
       "      <th>ʽdi</th>\n",
       "      <th>ʽresourc</th>\n",
       "      <th>ʽsoftwarizationʼ</th>\n",
       "      <th>ιτ</th>\n",
       "      <th>μm</th>\n",
       "      <th>μmole</th>\n",
       "      <th>σiderwin</th>\n",
       "      <th>τo</th>\n",
       "    </tr>\n",
       "  </thead>\n",
       "  <tbody>\n",
       "    <tr>\n",
       "      <th>58</th>\n",
       "      <td>0</td>\n",
       "      <td>0</td>\n",
       "      <td>0</td>\n",
       "      <td>0</td>\n",
       "      <td>0</td>\n",
       "      <td>0</td>\n",
       "      <td>0</td>\n",
       "      <td>0</td>\n",
       "      <td>0</td>\n",
       "      <td>0</td>\n",
       "      <td>...</td>\n",
       "      <td>0</td>\n",
       "      <td>0</td>\n",
       "      <td>0</td>\n",
       "      <td>0</td>\n",
       "      <td>0</td>\n",
       "      <td>0</td>\n",
       "      <td>0</td>\n",
       "      <td>0</td>\n",
       "      <td>0</td>\n",
       "      <td>0</td>\n",
       "    </tr>\n",
       "    <tr>\n",
       "      <th>62</th>\n",
       "      <td>0</td>\n",
       "      <td>0</td>\n",
       "      <td>0</td>\n",
       "      <td>0</td>\n",
       "      <td>0</td>\n",
       "      <td>0</td>\n",
       "      <td>0</td>\n",
       "      <td>0</td>\n",
       "      <td>0</td>\n",
       "      <td>0</td>\n",
       "      <td>...</td>\n",
       "      <td>0</td>\n",
       "      <td>0</td>\n",
       "      <td>0</td>\n",
       "      <td>0</td>\n",
       "      <td>0</td>\n",
       "      <td>0</td>\n",
       "      <td>0</td>\n",
       "      <td>0</td>\n",
       "      <td>0</td>\n",
       "      <td>0</td>\n",
       "    </tr>\n",
       "    <tr>\n",
       "      <th>135</th>\n",
       "      <td>0</td>\n",
       "      <td>0</td>\n",
       "      <td>0</td>\n",
       "      <td>0</td>\n",
       "      <td>0</td>\n",
       "      <td>0</td>\n",
       "      <td>0</td>\n",
       "      <td>0</td>\n",
       "      <td>0</td>\n",
       "      <td>0</td>\n",
       "      <td>...</td>\n",
       "      <td>0</td>\n",
       "      <td>0</td>\n",
       "      <td>0</td>\n",
       "      <td>0</td>\n",
       "      <td>0</td>\n",
       "      <td>0</td>\n",
       "      <td>0</td>\n",
       "      <td>0</td>\n",
       "      <td>0</td>\n",
       "      <td>0</td>\n",
       "    </tr>\n",
       "    <tr>\n",
       "      <th>228</th>\n",
       "      <td>0</td>\n",
       "      <td>0</td>\n",
       "      <td>0</td>\n",
       "      <td>0</td>\n",
       "      <td>0</td>\n",
       "      <td>0</td>\n",
       "      <td>0</td>\n",
       "      <td>0</td>\n",
       "      <td>0</td>\n",
       "      <td>0</td>\n",
       "      <td>...</td>\n",
       "      <td>0</td>\n",
       "      <td>0</td>\n",
       "      <td>0</td>\n",
       "      <td>0</td>\n",
       "      <td>0</td>\n",
       "      <td>0</td>\n",
       "      <td>0</td>\n",
       "      <td>0</td>\n",
       "      <td>0</td>\n",
       "      <td>0</td>\n",
       "    </tr>\n",
       "    <tr>\n",
       "      <th>325</th>\n",
       "      <td>0</td>\n",
       "      <td>0</td>\n",
       "      <td>0</td>\n",
       "      <td>0</td>\n",
       "      <td>0</td>\n",
       "      <td>0</td>\n",
       "      <td>0</td>\n",
       "      <td>0</td>\n",
       "      <td>0</td>\n",
       "      <td>0</td>\n",
       "      <td>...</td>\n",
       "      <td>0</td>\n",
       "      <td>0</td>\n",
       "      <td>0</td>\n",
       "      <td>0</td>\n",
       "      <td>0</td>\n",
       "      <td>0</td>\n",
       "      <td>0</td>\n",
       "      <td>0</td>\n",
       "      <td>0</td>\n",
       "      <td>0</td>\n",
       "    </tr>\n",
       "  </tbody>\n",
       "</table>\n",
       "<p>5 rows × 9626 columns</p>\n",
       "</div>"
      ],
      "text/plain": [
       "     abreast  abridg  abrupt  abundantli  academ  academi  academia  acceler  \\\n",
       "58         0       0       0           0       0        0         0        0   \n",
       "62         0       0       0           0       0        0         0        0   \n",
       "135        0       0       0           0       0        0         0        0   \n",
       "228        0       0       0           0       0        0         0        0   \n",
       "325        0       0       0           0       0        0         0        0   \n",
       "\n",
       "     acceleromet  accelwat  ...  öamtc  żurawlów  ʽdi  ʽresourc  \\\n",
       "58             0         0  ...      0         0    0         0   \n",
       "62             0         0  ...      0         0    0         0   \n",
       "135            0         0  ...      0         0    0         0   \n",
       "228            0         0  ...      0         0    0         0   \n",
       "325            0         0  ...      0         0    0         0   \n",
       "\n",
       "     ʽsoftwarizationʼ  ιτ  μm  μmole  σiderwin  τo  \n",
       "58                  0   0   0      0         0   0  \n",
       "62                  0   0   0      0         0   0  \n",
       "135                 0   0   0      0         0   0  \n",
       "228                 0   0   0      0         0   0  \n",
       "325                 0   0   0      0         0   0  \n",
       "\n",
       "[5 rows x 9626 columns]"
      ]
     },
     "execution_count": 41,
     "metadata": {},
     "output_type": "execute_result"
    }
   ],
   "source": [
    "df_BOW_unigram = pd.DataFrame(index=results_keywordSearch.index, data=BOW_unigram_freq,columns = BOW_terms_unigram)\n",
    "df_BOW_unigram.head(5)"
   ]
  },
  {
   "cell_type": "code",
   "execution_count": 42,
   "id": "e06136e4",
   "metadata": {},
   "outputs": [
    {
     "data": {
      "text/html": [
       "<div>\n",
       "<style scoped>\n",
       "    .dataframe tbody tr th:only-of-type {\n",
       "        vertical-align: middle;\n",
       "    }\n",
       "\n",
       "    .dataframe tbody tr th {\n",
       "        vertical-align: top;\n",
       "    }\n",
       "\n",
       "    .dataframe thead th {\n",
       "        text-align: right;\n",
       "    }\n",
       "</style>\n",
       "<table border=\"1\" class=\"dataframe\">\n",
       "  <thead>\n",
       "    <tr style=\"text-align: right;\">\n",
       "      <th></th>\n",
       "      <th>term_treq</th>\n",
       "    </tr>\n",
       "  </thead>\n",
       "  <tbody>\n",
       "    <tr>\n",
       "      <th>energi</th>\n",
       "      <td>5163</td>\n",
       "    </tr>\n",
       "    <tr>\n",
       "      <th>build</th>\n",
       "      <td>2291</td>\n",
       "    </tr>\n",
       "    <tr>\n",
       "      <th>develop</th>\n",
       "      <td>1895</td>\n",
       "    </tr>\n",
       "    <tr>\n",
       "      <th>system</th>\n",
       "      <td>1629</td>\n",
       "    </tr>\n",
       "    <tr>\n",
       "      <th>technolog</th>\n",
       "      <td>1407</td>\n",
       "    </tr>\n",
       "    <tr>\n",
       "      <th>...</th>\n",
       "      <td>...</td>\n",
       "    </tr>\n",
       "    <tr>\n",
       "      <th>fifteen</th>\n",
       "      <td>6</td>\n",
       "    </tr>\n",
       "    <tr>\n",
       "      <th>feutur</th>\n",
       "      <td>6</td>\n",
       "    </tr>\n",
       "    <tr>\n",
       "      <th>ramp</th>\n",
       "      <td>6</td>\n",
       "    </tr>\n",
       "    <tr>\n",
       "      <th>tough</th>\n",
       "      <td>6</td>\n",
       "    </tr>\n",
       "    <tr>\n",
       "      <th>zinc</th>\n",
       "      <td>6</td>\n",
       "    </tr>\n",
       "  </tbody>\n",
       "</table>\n",
       "<p>3096 rows × 1 columns</p>\n",
       "</div>"
      ],
      "text/plain": [
       "           term_treq\n",
       "energi          5163\n",
       "build           2291\n",
       "develop         1895\n",
       "system          1629\n",
       "technolog       1407\n",
       "...              ...\n",
       "fifteen            6\n",
       "feutur             6\n",
       "ramp               6\n",
       "tough              6\n",
       "zinc               6\n",
       "\n",
       "[3096 rows x 1 columns]"
      ]
     },
     "execution_count": 42,
     "metadata": {},
     "output_type": "execute_result"
    }
   ],
   "source": [
    "df_BOW_unigram_transp = df_BOW_unigram.T\n",
    "\n",
    "df_BOW_unigram_transp['term_treq'] = df_BOW_unigram_transp.sum(axis=1)\n",
    "term_unigram_freq = df_BOW_unigram_transp[['term_treq']]\n",
    "term_unigram_freq = term_unigram_freq[term_unigram_freq['term_treq']>5]\n",
    "term_unigram_freq=term_unigram_freq.sort_values(by=['term_treq'], ascending=False)\n",
    "term_unigram_freq"
   ]
  },
  {
   "cell_type": "markdown",
   "id": "b3beb714",
   "metadata": {},
   "source": [
    "Save the list of terms *unigrams* as a csv file"
   ]
  },
  {
   "cell_type": "code",
   "execution_count": 43,
   "id": "465c11a8",
   "metadata": {},
   "outputs": [],
   "source": [
    "unigram = pd.DataFrame(index=term_unigram_freq.index, data=term_unigram_freq)\n",
    "unigram.to_csv('../data/ngrams/unigrams.csv')"
   ]
  },
  {
   "cell_type": "markdown",
   "id": "1e685b1b",
   "metadata": {},
   "source": [
    "**Bigrams term frequency**"
   ]
  },
  {
   "cell_type": "code",
   "execution_count": 44,
   "id": "dc521846",
   "metadata": {},
   "outputs": [],
   "source": [
    "BOW_bigram_vectorizer = CountVectorizer(analyzer='word', ngram_range=(2, 2))\n",
    "\n",
    "BOW_matrix_bigram = BOW_bigram_vectorizer.fit_transform(objective_terms_tokenized)\n",
    "BOW_terms_bigram=BOW_bigram_vectorizer.get_feature_names()\n",
    "\n",
    "terms_bigram_freq = BOW_matrix_bigram.toarray()"
   ]
  },
  {
   "cell_type": "code",
   "execution_count": 45,
   "id": "b9ba0eab",
   "metadata": {},
   "outputs": [
    {
     "data": {
      "text/html": [
       "<div>\n",
       "<style scoped>\n",
       "    .dataframe tbody tr th:only-of-type {\n",
       "        vertical-align: middle;\n",
       "    }\n",
       "\n",
       "    .dataframe tbody tr th {\n",
       "        vertical-align: top;\n",
       "    }\n",
       "\n",
       "    .dataframe thead th {\n",
       "        text-align: right;\n",
       "    }\n",
       "</style>\n",
       "<table border=\"1\" class=\"dataframe\">\n",
       "  <thead>\n",
       "    <tr style=\"text-align: right;\">\n",
       "      <th></th>\n",
       "      <th>abreast research</th>\n",
       "      <th>abridg eu</th>\n",
       "      <th>abrupt transit</th>\n",
       "      <th>abundantli dure</th>\n",
       "      <th>academ advisor</th>\n",
       "      <th>academ appli</th>\n",
       "      <th>academ background</th>\n",
       "      <th>academ boundari</th>\n",
       "      <th>academ center</th>\n",
       "      <th>academ circl</th>\n",
       "      <th>...</th>\n",
       "      <th>żurawlów similar</th>\n",
       "      <th>żurawlów villag</th>\n",
       "      <th>ʽdi aggreg</th>\n",
       "      <th>ʽresourc disaggregationʼ</th>\n",
       "      <th>ʽsoftwarizationʼ migrat</th>\n",
       "      <th>ιτ celj</th>\n",
       "      <th>μm formul</th>\n",
       "      <th>μmole prototyp</th>\n",
       "      <th>σiderwin propos</th>\n",
       "      <th>τo address</th>\n",
       "    </tr>\n",
       "  </thead>\n",
       "  <tbody>\n",
       "    <tr>\n",
       "      <th>58</th>\n",
       "      <td>0</td>\n",
       "      <td>0</td>\n",
       "      <td>0</td>\n",
       "      <td>0</td>\n",
       "      <td>0</td>\n",
       "      <td>0</td>\n",
       "      <td>0</td>\n",
       "      <td>0</td>\n",
       "      <td>0</td>\n",
       "      <td>0</td>\n",
       "      <td>...</td>\n",
       "      <td>0</td>\n",
       "      <td>0</td>\n",
       "      <td>0</td>\n",
       "      <td>0</td>\n",
       "      <td>0</td>\n",
       "      <td>0</td>\n",
       "      <td>0</td>\n",
       "      <td>0</td>\n",
       "      <td>0</td>\n",
       "      <td>0</td>\n",
       "    </tr>\n",
       "    <tr>\n",
       "      <th>62</th>\n",
       "      <td>0</td>\n",
       "      <td>0</td>\n",
       "      <td>0</td>\n",
       "      <td>0</td>\n",
       "      <td>0</td>\n",
       "      <td>0</td>\n",
       "      <td>0</td>\n",
       "      <td>0</td>\n",
       "      <td>0</td>\n",
       "      <td>0</td>\n",
       "      <td>...</td>\n",
       "      <td>0</td>\n",
       "      <td>0</td>\n",
       "      <td>0</td>\n",
       "      <td>0</td>\n",
       "      <td>0</td>\n",
       "      <td>0</td>\n",
       "      <td>0</td>\n",
       "      <td>0</td>\n",
       "      <td>0</td>\n",
       "      <td>0</td>\n",
       "    </tr>\n",
       "    <tr>\n",
       "      <th>135</th>\n",
       "      <td>0</td>\n",
       "      <td>0</td>\n",
       "      <td>0</td>\n",
       "      <td>0</td>\n",
       "      <td>0</td>\n",
       "      <td>0</td>\n",
       "      <td>0</td>\n",
       "      <td>0</td>\n",
       "      <td>0</td>\n",
       "      <td>0</td>\n",
       "      <td>...</td>\n",
       "      <td>0</td>\n",
       "      <td>0</td>\n",
       "      <td>0</td>\n",
       "      <td>0</td>\n",
       "      <td>0</td>\n",
       "      <td>0</td>\n",
       "      <td>0</td>\n",
       "      <td>0</td>\n",
       "      <td>0</td>\n",
       "      <td>0</td>\n",
       "    </tr>\n",
       "    <tr>\n",
       "      <th>228</th>\n",
       "      <td>0</td>\n",
       "      <td>0</td>\n",
       "      <td>0</td>\n",
       "      <td>0</td>\n",
       "      <td>0</td>\n",
       "      <td>0</td>\n",
       "      <td>0</td>\n",
       "      <td>0</td>\n",
       "      <td>0</td>\n",
       "      <td>0</td>\n",
       "      <td>...</td>\n",
       "      <td>0</td>\n",
       "      <td>0</td>\n",
       "      <td>0</td>\n",
       "      <td>0</td>\n",
       "      <td>0</td>\n",
       "      <td>0</td>\n",
       "      <td>0</td>\n",
       "      <td>0</td>\n",
       "      <td>0</td>\n",
       "      <td>0</td>\n",
       "    </tr>\n",
       "    <tr>\n",
       "      <th>325</th>\n",
       "      <td>0</td>\n",
       "      <td>0</td>\n",
       "      <td>0</td>\n",
       "      <td>0</td>\n",
       "      <td>0</td>\n",
       "      <td>0</td>\n",
       "      <td>0</td>\n",
       "      <td>0</td>\n",
       "      <td>0</td>\n",
       "      <td>0</td>\n",
       "      <td>...</td>\n",
       "      <td>0</td>\n",
       "      <td>0</td>\n",
       "      <td>0</td>\n",
       "      <td>0</td>\n",
       "      <td>0</td>\n",
       "      <td>0</td>\n",
       "      <td>0</td>\n",
       "      <td>0</td>\n",
       "      <td>0</td>\n",
       "      <td>0</td>\n",
       "    </tr>\n",
       "  </tbody>\n",
       "</table>\n",
       "<p>5 rows × 138127 columns</p>\n",
       "</div>"
      ],
      "text/plain": [
       "     abreast research  abridg eu  abrupt transit  abundantli dure  \\\n",
       "58                  0          0               0                0   \n",
       "62                  0          0               0                0   \n",
       "135                 0          0               0                0   \n",
       "228                 0          0               0                0   \n",
       "325                 0          0               0                0   \n",
       "\n",
       "     academ advisor  academ appli  academ background  academ boundari  \\\n",
       "58                0             0                  0                0   \n",
       "62                0             0                  0                0   \n",
       "135               0             0                  0                0   \n",
       "228               0             0                  0                0   \n",
       "325               0             0                  0                0   \n",
       "\n",
       "     academ center  academ circl  ...  żurawlów similar  żurawlów villag  \\\n",
       "58               0             0  ...                 0                0   \n",
       "62               0             0  ...                 0                0   \n",
       "135              0             0  ...                 0                0   \n",
       "228              0             0  ...                 0                0   \n",
       "325              0             0  ...                 0                0   \n",
       "\n",
       "     ʽdi aggreg  ʽresourc disaggregationʼ  ʽsoftwarizationʼ migrat  ιτ celj  \\\n",
       "58            0                         0                        0        0   \n",
       "62            0                         0                        0        0   \n",
       "135           0                         0                        0        0   \n",
       "228           0                         0                        0        0   \n",
       "325           0                         0                        0        0   \n",
       "\n",
       "     μm formul  μmole prototyp  σiderwin propos  τo address  \n",
       "58           0               0                0           0  \n",
       "62           0               0                0           0  \n",
       "135          0               0                0           0  \n",
       "228          0               0                0           0  \n",
       "325          0               0                0           0  \n",
       "\n",
       "[5 rows x 138127 columns]"
      ]
     },
     "execution_count": 45,
     "metadata": {},
     "output_type": "execute_result"
    }
   ],
   "source": [
    "df_BOW_bigram = pd.DataFrame(index=results_keywordSearch.index, data=terms_bigram_freq,columns = BOW_terms_bigram)\n",
    "df_BOW_bigram.head(5)"
   ]
  },
  {
   "cell_type": "markdown",
   "id": "69c051a4",
   "metadata": {},
   "source": [
    "We store particular dataframe to access it from another Jupyter Notebook"
   ]
  },
  {
   "cell_type": "code",
   "execution_count": 46,
   "id": "6aa16a68",
   "metadata": {
    "scrolled": false
   },
   "outputs": [
    {
     "name": "stdout",
     "output_type": "stream",
     "text": [
      "Stored 'df_BOW_bigram' (DataFrame)\n"
     ]
    }
   ],
   "source": [
    "%store df_BOW_bigram"
   ]
  },
  {
   "cell_type": "code",
   "execution_count": 47,
   "id": "df057674",
   "metadata": {},
   "outputs": [
    {
     "data": {
      "text/html": [
       "<div>\n",
       "<style scoped>\n",
       "    .dataframe tbody tr th:only-of-type {\n",
       "        vertical-align: middle;\n",
       "    }\n",
       "\n",
       "    .dataframe tbody tr th {\n",
       "        vertical-align: top;\n",
       "    }\n",
       "\n",
       "    .dataframe thead th {\n",
       "        text-align: right;\n",
       "    }\n",
       "</style>\n",
       "<table border=\"1\" class=\"dataframe\">\n",
       "  <thead>\n",
       "    <tr style=\"text-align: right;\">\n",
       "      <th></th>\n",
       "      <th>term_treq</th>\n",
       "    </tr>\n",
       "  </thead>\n",
       "  <tbody>\n",
       "    <tr>\n",
       "      <th>energi effici</th>\n",
       "      <td>705</td>\n",
       "    </tr>\n",
       "    <tr>\n",
       "      <th>energi consumpt</th>\n",
       "      <td>415</td>\n",
       "    </tr>\n",
       "    <tr>\n",
       "      <th>renew energi</th>\n",
       "      <td>301</td>\n",
       "    </tr>\n",
       "    <tr>\n",
       "      <th>climat chang</th>\n",
       "      <td>216</td>\n",
       "    </tr>\n",
       "    <tr>\n",
       "      <th>busi model</th>\n",
       "      <td>205</td>\n",
       "    </tr>\n",
       "    <tr>\n",
       "      <th>...</th>\n",
       "      <td>...</td>\n",
       "    </tr>\n",
       "    <tr>\n",
       "      <th>host physiolog</th>\n",
       "      <td>2</td>\n",
       "    </tr>\n",
       "    <tr>\n",
       "      <th>host interact</th>\n",
       "      <td>2</td>\n",
       "    </tr>\n",
       "    <tr>\n",
       "      <th>host fixat</th>\n",
       "      <td>2</td>\n",
       "    </tr>\n",
       "    <tr>\n",
       "      <th>host fellow</th>\n",
       "      <td>2</td>\n",
       "    </tr>\n",
       "    <tr>\n",
       "      <th>évora portug</th>\n",
       "      <td>2</td>\n",
       "    </tr>\n",
       "  </tbody>\n",
       "</table>\n",
       "<p>26151 rows × 1 columns</p>\n",
       "</div>"
      ],
      "text/plain": [
       "                 term_treq\n",
       "energi effici          705\n",
       "energi consumpt        415\n",
       "renew energi           301\n",
       "climat chang           216\n",
       "busi model             205\n",
       "...                    ...\n",
       "host physiolog           2\n",
       "host interact            2\n",
       "host fixat               2\n",
       "host fellow              2\n",
       "évora portug             2\n",
       "\n",
       "[26151 rows x 1 columns]"
      ]
     },
     "execution_count": 47,
     "metadata": {},
     "output_type": "execute_result"
    }
   ],
   "source": [
    "df_BOW_bigram_transp = df_BOW_bigram.T\n",
    "\n",
    "df_BOW_bigram_transp['term_treq'] = df_BOW_bigram_transp.sum(axis=1)\n",
    "term_bigram_freq = df_BOW_bigram_transp[['term_treq']]\n",
    "term_bigram_freq = term_bigram_freq[term_bigram_freq['term_treq']>1]\n",
    "term_bigram_freq=term_bigram_freq.sort_values(by=['term_treq'], ascending=False)\n",
    "term_bigram_freq"
   ]
  },
  {
   "cell_type": "markdown",
   "id": "ee33aa53",
   "metadata": {},
   "source": [
    "Save the list of terms *bigrams* as a csv file"
   ]
  },
  {
   "cell_type": "code",
   "execution_count": 48,
   "id": "ca9c200a",
   "metadata": {},
   "outputs": [],
   "source": [
    "bigrams = pd.DataFrame(index=term_bigram_freq.index, data=term_bigram_freq)\n",
    "bigrams.to_csv('../data/ngrams/bigrams.csv')"
   ]
  },
  {
   "cell_type": "markdown",
   "id": "20026800",
   "metadata": {},
   "source": [
    "**Trigrams term frequency**"
   ]
  },
  {
   "cell_type": "code",
   "execution_count": 49,
   "id": "400a79e6",
   "metadata": {},
   "outputs": [],
   "source": [
    "BOW_trigram_vectorizer = CountVectorizer(analyzer='word', ngram_range=(3, 3))\n",
    "\n",
    "BOW_matrix_trigram = BOW_trigram_vectorizer.fit_transform(objective_terms_tokenized)\n",
    "BOW_terms_trigram=BOW_trigram_vectorizer.get_feature_names()\n",
    "\n",
    "terms_trigram_freq = BOW_matrix_trigram.toarray()"
   ]
  },
  {
   "cell_type": "code",
   "execution_count": 50,
   "id": "82817989",
   "metadata": {},
   "outputs": [
    {
     "data": {
      "text/html": [
       "<div>\n",
       "<style scoped>\n",
       "    .dataframe tbody tr th:only-of-type {\n",
       "        vertical-align: middle;\n",
       "    }\n",
       "\n",
       "    .dataframe tbody tr th {\n",
       "        vertical-align: top;\n",
       "    }\n",
       "\n",
       "    .dataframe thead th {\n",
       "        text-align: right;\n",
       "    }\n",
       "</style>\n",
       "<table border=\"1\" class=\"dataframe\">\n",
       "  <thead>\n",
       "    <tr style=\"text-align: right;\">\n",
       "      <th></th>\n",
       "      <th>abreast research special</th>\n",
       "      <th>abridg eu usa</th>\n",
       "      <th>abrupt transit tip</th>\n",
       "      <th>abundantli dure summer</th>\n",
       "      <th>academ advisor four</th>\n",
       "      <th>academ appli research</th>\n",
       "      <th>academ background fibr</th>\n",
       "      <th>academ boundari object</th>\n",
       "      <th>academ center cover</th>\n",
       "      <th>academ circl cheetah</th>\n",
       "      <th>...</th>\n",
       "      <th>żurawlów similar anti</th>\n",
       "      <th>żurawlów villag eastern</th>\n",
       "      <th>ʽdi aggreg ranʼ</th>\n",
       "      <th>ʽresourc disaggregationʼ allow</th>\n",
       "      <th>ʽsoftwarizationʼ migrat convent</th>\n",
       "      <th>ιτ celj si</th>\n",
       "      <th>μm formul solder</th>\n",
       "      <th>μmole prototyp contain</th>\n",
       "      <th>σiderwin propos develop</th>\n",
       "      <th>τo address limit</th>\n",
       "    </tr>\n",
       "  </thead>\n",
       "  <tbody>\n",
       "    <tr>\n",
       "      <th>58</th>\n",
       "      <td>0</td>\n",
       "      <td>0</td>\n",
       "      <td>0</td>\n",
       "      <td>0</td>\n",
       "      <td>0</td>\n",
       "      <td>0</td>\n",
       "      <td>0</td>\n",
       "      <td>0</td>\n",
       "      <td>0</td>\n",
       "      <td>0</td>\n",
       "      <td>...</td>\n",
       "      <td>0</td>\n",
       "      <td>0</td>\n",
       "      <td>0</td>\n",
       "      <td>0</td>\n",
       "      <td>0</td>\n",
       "      <td>0</td>\n",
       "      <td>0</td>\n",
       "      <td>0</td>\n",
       "      <td>0</td>\n",
       "      <td>0</td>\n",
       "    </tr>\n",
       "    <tr>\n",
       "      <th>62</th>\n",
       "      <td>0</td>\n",
       "      <td>0</td>\n",
       "      <td>0</td>\n",
       "      <td>0</td>\n",
       "      <td>0</td>\n",
       "      <td>0</td>\n",
       "      <td>0</td>\n",
       "      <td>0</td>\n",
       "      <td>0</td>\n",
       "      <td>0</td>\n",
       "      <td>...</td>\n",
       "      <td>0</td>\n",
       "      <td>0</td>\n",
       "      <td>0</td>\n",
       "      <td>0</td>\n",
       "      <td>0</td>\n",
       "      <td>0</td>\n",
       "      <td>0</td>\n",
       "      <td>0</td>\n",
       "      <td>0</td>\n",
       "      <td>0</td>\n",
       "    </tr>\n",
       "    <tr>\n",
       "      <th>135</th>\n",
       "      <td>0</td>\n",
       "      <td>0</td>\n",
       "      <td>0</td>\n",
       "      <td>0</td>\n",
       "      <td>0</td>\n",
       "      <td>0</td>\n",
       "      <td>0</td>\n",
       "      <td>0</td>\n",
       "      <td>0</td>\n",
       "      <td>0</td>\n",
       "      <td>...</td>\n",
       "      <td>0</td>\n",
       "      <td>0</td>\n",
       "      <td>0</td>\n",
       "      <td>0</td>\n",
       "      <td>0</td>\n",
       "      <td>0</td>\n",
       "      <td>0</td>\n",
       "      <td>0</td>\n",
       "      <td>0</td>\n",
       "      <td>0</td>\n",
       "    </tr>\n",
       "    <tr>\n",
       "      <th>228</th>\n",
       "      <td>0</td>\n",
       "      <td>0</td>\n",
       "      <td>0</td>\n",
       "      <td>0</td>\n",
       "      <td>0</td>\n",
       "      <td>0</td>\n",
       "      <td>0</td>\n",
       "      <td>0</td>\n",
       "      <td>0</td>\n",
       "      <td>0</td>\n",
       "      <td>...</td>\n",
       "      <td>0</td>\n",
       "      <td>0</td>\n",
       "      <td>0</td>\n",
       "      <td>0</td>\n",
       "      <td>0</td>\n",
       "      <td>0</td>\n",
       "      <td>0</td>\n",
       "      <td>0</td>\n",
       "      <td>0</td>\n",
       "      <td>0</td>\n",
       "    </tr>\n",
       "    <tr>\n",
       "      <th>325</th>\n",
       "      <td>0</td>\n",
       "      <td>0</td>\n",
       "      <td>0</td>\n",
       "      <td>0</td>\n",
       "      <td>0</td>\n",
       "      <td>0</td>\n",
       "      <td>0</td>\n",
       "      <td>0</td>\n",
       "      <td>0</td>\n",
       "      <td>0</td>\n",
       "      <td>...</td>\n",
       "      <td>0</td>\n",
       "      <td>0</td>\n",
       "      <td>0</td>\n",
       "      <td>0</td>\n",
       "      <td>0</td>\n",
       "      <td>0</td>\n",
       "      <td>0</td>\n",
       "      <td>0</td>\n",
       "      <td>0</td>\n",
       "      <td>0</td>\n",
       "    </tr>\n",
       "  </tbody>\n",
       "</table>\n",
       "<p>5 rows × 197373 columns</p>\n",
       "</div>"
      ],
      "text/plain": [
       "     abreast research special  abridg eu usa  abrupt transit tip  \\\n",
       "58                          0              0                   0   \n",
       "62                          0              0                   0   \n",
       "135                         0              0                   0   \n",
       "228                         0              0                   0   \n",
       "325                         0              0                   0   \n",
       "\n",
       "     abundantli dure summer  academ advisor four  academ appli research  \\\n",
       "58                        0                    0                      0   \n",
       "62                        0                    0                      0   \n",
       "135                       0                    0                      0   \n",
       "228                       0                    0                      0   \n",
       "325                       0                    0                      0   \n",
       "\n",
       "     academ background fibr  academ boundari object  academ center cover  \\\n",
       "58                        0                       0                    0   \n",
       "62                        0                       0                    0   \n",
       "135                       0                       0                    0   \n",
       "228                       0                       0                    0   \n",
       "325                       0                       0                    0   \n",
       "\n",
       "     academ circl cheetah  ...  żurawlów similar anti  \\\n",
       "58                      0  ...                      0   \n",
       "62                      0  ...                      0   \n",
       "135                     0  ...                      0   \n",
       "228                     0  ...                      0   \n",
       "325                     0  ...                      0   \n",
       "\n",
       "     żurawlów villag eastern  ʽdi aggreg ranʼ  ʽresourc disaggregationʼ allow  \\\n",
       "58                         0                0                               0   \n",
       "62                         0                0                               0   \n",
       "135                        0                0                               0   \n",
       "228                        0                0                               0   \n",
       "325                        0                0                               0   \n",
       "\n",
       "     ʽsoftwarizationʼ migrat convent  ιτ celj si  μm formul solder  \\\n",
       "58                                 0           0                 0   \n",
       "62                                 0           0                 0   \n",
       "135                                0           0                 0   \n",
       "228                                0           0                 0   \n",
       "325                                0           0                 0   \n",
       "\n",
       "     μmole prototyp contain  σiderwin propos develop  τo address limit  \n",
       "58                        0                        0                 0  \n",
       "62                        0                        0                 0  \n",
       "135                       0                        0                 0  \n",
       "228                       0                        0                 0  \n",
       "325                       0                        0                 0  \n",
       "\n",
       "[5 rows x 197373 columns]"
      ]
     },
     "execution_count": 50,
     "metadata": {},
     "output_type": "execute_result"
    }
   ],
   "source": [
    "df_BOW_trigram = pd.DataFrame(index=results_keywordSearch.index, data=terms_trigram_freq,columns = BOW_terms_trigram)\n",
    "df_BOW_trigram.head(5)"
   ]
  },
  {
   "cell_type": "code",
   "execution_count": 51,
   "id": "7e76aa78",
   "metadata": {},
   "outputs": [
    {
     "data": {
      "text/html": [
       "<div>\n",
       "<style scoped>\n",
       "    .dataframe tbody tr th:only-of-type {\n",
       "        vertical-align: middle;\n",
       "    }\n",
       "\n",
       "    .dataframe tbody tr th {\n",
       "        vertical-align: top;\n",
       "    }\n",
       "\n",
       "    .dataframe thead th {\n",
       "        text-align: right;\n",
       "    }\n",
       "</style>\n",
       "<table border=\"1\" class=\"dataframe\">\n",
       "  <thead>\n",
       "    <tr style=\"text-align: right;\">\n",
       "      <th></th>\n",
       "      <th>term_treq</th>\n",
       "    </tr>\n",
       "  </thead>\n",
       "  <tbody>\n",
       "    <tr>\n",
       "      <th>renew energi sourc</th>\n",
       "      <td>64</td>\n",
       "    </tr>\n",
       "    <tr>\n",
       "      <th>reduc energi consumpt</th>\n",
       "      <td>58</td>\n",
       "    </tr>\n",
       "    <tr>\n",
       "      <th>energi effici build</th>\n",
       "      <td>51</td>\n",
       "    </tr>\n",
       "    <tr>\n",
       "      <th>nearli zero energi</th>\n",
       "      <td>51</td>\n",
       "    </tr>\n",
       "    <tr>\n",
       "      <th>zero energi build</th>\n",
       "      <td>45</td>\n",
       "    </tr>\n",
       "    <tr>\n",
       "      <th>...</th>\n",
       "      <td>...</td>\n",
       "    </tr>\n",
       "    <tr>\n",
       "      <th>european smart citi</th>\n",
       "      <td>2</td>\n",
       "    </tr>\n",
       "    <tr>\n",
       "      <th>european road transport</th>\n",
       "      <td>2</td>\n",
       "    </tr>\n",
       "    <tr>\n",
       "      <th>european research innov</th>\n",
       "      <td>2</td>\n",
       "    </tr>\n",
       "    <tr>\n",
       "      <th>european polici strateg</th>\n",
       "      <td>2</td>\n",
       "    </tr>\n",
       "    <tr>\n",
       "      <th>zero oper expens</th>\n",
       "      <td>2</td>\n",
       "    </tr>\n",
       "  </tbody>\n",
       "</table>\n",
       "<p>7377 rows × 1 columns</p>\n",
       "</div>"
      ],
      "text/plain": [
       "                         term_treq\n",
       "renew energi sourc              64\n",
       "reduc energi consumpt           58\n",
       "energi effici build             51\n",
       "nearli zero energi              51\n",
       "zero energi build               45\n",
       "...                            ...\n",
       "european smart citi              2\n",
       "european road transport          2\n",
       "european research innov          2\n",
       "european polici strateg          2\n",
       "zero oper expens                 2\n",
       "\n",
       "[7377 rows x 1 columns]"
      ]
     },
     "execution_count": 51,
     "metadata": {},
     "output_type": "execute_result"
    }
   ],
   "source": [
    "df_BOW_trigram_transp = df_BOW_trigram.T\n",
    "\n",
    "df_BOW_trigram_transp['term_treq'] = df_BOW_trigram_transp.sum(axis=1)\n",
    "\n",
    "term_trigram_freq = df_BOW_trigram_transp[['term_treq']]\n",
    "term_trigram_freq = term_trigram_freq[term_trigram_freq['term_treq']>1]\n",
    "term_trigram_freq=term_trigram_freq.sort_values(by=['term_treq'], ascending=False)\n",
    "term_trigram_freq"
   ]
  },
  {
   "cell_type": "markdown",
   "id": "2da84a63",
   "metadata": {},
   "source": [
    "Save the list of terms *trigrams* as a csv file"
   ]
  },
  {
   "cell_type": "code",
   "execution_count": 52,
   "id": "91b9abac",
   "metadata": {},
   "outputs": [],
   "source": [
    "trigram = pd.DataFrame(index=term_trigram_freq.index, data=term_trigram_freq)\n",
    "trigram.to_csv('../data/ngrams/trigrams.csv')"
   ]
  },
  {
   "cell_type": "markdown",
   "id": "eace43bf",
   "metadata": {},
   "source": [
    "**Save the list of terms_name as a csv file**"
   ]
  },
  {
   "cell_type": "markdown",
   "id": "53732206",
   "metadata": {},
   "source": [
    "### Terms Frequency - Inverse Document Frequency (TF-IDF)"
   ]
  },
  {
   "attachments": {
    "image.png": {
     "image/png": "[encoded data removed]"
    }
   },
   "cell_type": "markdown",
   "id": "9c3d1bc2",
   "metadata": {},
   "source": [
    "![image.png](attachment:image.png)"
   ]
  },
  {
   "cell_type": "code",
   "execution_count": 53,
   "id": "37c555b4",
   "metadata": {},
   "outputs": [],
   "source": [
    "from sklearn.feature_extraction.text import TfidfVectorizer"
   ]
  },
  {
   "cell_type": "markdown",
   "id": "a55a3bff",
   "metadata": {},
   "source": [
    "**TF-IDF Unigrams**"
   ]
  },
  {
   "cell_type": "code",
   "execution_count": 54,
   "id": "d44d5080",
   "metadata": {},
   "outputs": [
    {
     "name": "stdout",
     "output_type": "stream",
     "text": [
      "['abreast', 'abridg', 'abrupt', 'abundantli', 'academ']\n"
     ]
    },
    {
     "data": {
      "text/html": [
       "<div>\n",
       "<style scoped>\n",
       "    .dataframe tbody tr th:only-of-type {\n",
       "        vertical-align: middle;\n",
       "    }\n",
       "\n",
       "    .dataframe tbody tr th {\n",
       "        vertical-align: top;\n",
       "    }\n",
       "\n",
       "    .dataframe thead th {\n",
       "        text-align: right;\n",
       "    }\n",
       "</style>\n",
       "<table border=\"1\" class=\"dataframe\">\n",
       "  <thead>\n",
       "    <tr style=\"text-align: right;\">\n",
       "      <th></th>\n",
       "      <th>abreast</th>\n",
       "      <th>abridg</th>\n",
       "      <th>abrupt</th>\n",
       "      <th>abundantli</th>\n",
       "      <th>academ</th>\n",
       "      <th>academi</th>\n",
       "      <th>academia</th>\n",
       "      <th>acceler</th>\n",
       "      <th>acceleromet</th>\n",
       "      <th>accelwat</th>\n",
       "      <th>...</th>\n",
       "      <th>öamtc</th>\n",
       "      <th>żurawlów</th>\n",
       "      <th>ʽdi</th>\n",
       "      <th>ʽresourc</th>\n",
       "      <th>ʽsoftwarizationʼ</th>\n",
       "      <th>ιτ</th>\n",
       "      <th>μm</th>\n",
       "      <th>μmole</th>\n",
       "      <th>σiderwin</th>\n",
       "      <th>τo</th>\n",
       "    </tr>\n",
       "  </thead>\n",
       "  <tbody>\n",
       "    <tr>\n",
       "      <th>58</th>\n",
       "      <td>0.0</td>\n",
       "      <td>0.0</td>\n",
       "      <td>0.0</td>\n",
       "      <td>0.0</td>\n",
       "      <td>0.0</td>\n",
       "      <td>0.0</td>\n",
       "      <td>0.0</td>\n",
       "      <td>0.0</td>\n",
       "      <td>0.0</td>\n",
       "      <td>0.0</td>\n",
       "      <td>...</td>\n",
       "      <td>0.0</td>\n",
       "      <td>0.0</td>\n",
       "      <td>0.0</td>\n",
       "      <td>0.0</td>\n",
       "      <td>0.0</td>\n",
       "      <td>0.0</td>\n",
       "      <td>0.0</td>\n",
       "      <td>0.0</td>\n",
       "      <td>0.0</td>\n",
       "      <td>0.0</td>\n",
       "    </tr>\n",
       "    <tr>\n",
       "      <th>62</th>\n",
       "      <td>0.0</td>\n",
       "      <td>0.0</td>\n",
       "      <td>0.0</td>\n",
       "      <td>0.0</td>\n",
       "      <td>0.0</td>\n",
       "      <td>0.0</td>\n",
       "      <td>0.0</td>\n",
       "      <td>0.0</td>\n",
       "      <td>0.0</td>\n",
       "      <td>0.0</td>\n",
       "      <td>...</td>\n",
       "      <td>0.0</td>\n",
       "      <td>0.0</td>\n",
       "      <td>0.0</td>\n",
       "      <td>0.0</td>\n",
       "      <td>0.0</td>\n",
       "      <td>0.0</td>\n",
       "      <td>0.0</td>\n",
       "      <td>0.0</td>\n",
       "      <td>0.0</td>\n",
       "      <td>0.0</td>\n",
       "    </tr>\n",
       "    <tr>\n",
       "      <th>135</th>\n",
       "      <td>0.0</td>\n",
       "      <td>0.0</td>\n",
       "      <td>0.0</td>\n",
       "      <td>0.0</td>\n",
       "      <td>0.0</td>\n",
       "      <td>0.0</td>\n",
       "      <td>0.0</td>\n",
       "      <td>0.0</td>\n",
       "      <td>0.0</td>\n",
       "      <td>0.0</td>\n",
       "      <td>...</td>\n",
       "      <td>0.0</td>\n",
       "      <td>0.0</td>\n",
       "      <td>0.0</td>\n",
       "      <td>0.0</td>\n",
       "      <td>0.0</td>\n",
       "      <td>0.0</td>\n",
       "      <td>0.0</td>\n",
       "      <td>0.0</td>\n",
       "      <td>0.0</td>\n",
       "      <td>0.0</td>\n",
       "    </tr>\n",
       "    <tr>\n",
       "      <th>228</th>\n",
       "      <td>0.0</td>\n",
       "      <td>0.0</td>\n",
       "      <td>0.0</td>\n",
       "      <td>0.0</td>\n",
       "      <td>0.0</td>\n",
       "      <td>0.0</td>\n",
       "      <td>0.0</td>\n",
       "      <td>0.0</td>\n",
       "      <td>0.0</td>\n",
       "      <td>0.0</td>\n",
       "      <td>...</td>\n",
       "      <td>0.0</td>\n",
       "      <td>0.0</td>\n",
       "      <td>0.0</td>\n",
       "      <td>0.0</td>\n",
       "      <td>0.0</td>\n",
       "      <td>0.0</td>\n",
       "      <td>0.0</td>\n",
       "      <td>0.0</td>\n",
       "      <td>0.0</td>\n",
       "      <td>0.0</td>\n",
       "    </tr>\n",
       "    <tr>\n",
       "      <th>325</th>\n",
       "      <td>0.0</td>\n",
       "      <td>0.0</td>\n",
       "      <td>0.0</td>\n",
       "      <td>0.0</td>\n",
       "      <td>0.0</td>\n",
       "      <td>0.0</td>\n",
       "      <td>0.0</td>\n",
       "      <td>0.0</td>\n",
       "      <td>0.0</td>\n",
       "      <td>0.0</td>\n",
       "      <td>...</td>\n",
       "      <td>0.0</td>\n",
       "      <td>0.0</td>\n",
       "      <td>0.0</td>\n",
       "      <td>0.0</td>\n",
       "      <td>0.0</td>\n",
       "      <td>0.0</td>\n",
       "      <td>0.0</td>\n",
       "      <td>0.0</td>\n",
       "      <td>0.0</td>\n",
       "      <td>0.0</td>\n",
       "    </tr>\n",
       "  </tbody>\n",
       "</table>\n",
       "<p>5 rows × 9626 columns</p>\n",
       "</div>"
      ],
      "text/plain": [
       "     abreast  abridg  abrupt  abundantli  academ  academi  academia  acceler  \\\n",
       "58       0.0     0.0     0.0         0.0     0.0      0.0       0.0      0.0   \n",
       "62       0.0     0.0     0.0         0.0     0.0      0.0       0.0      0.0   \n",
       "135      0.0     0.0     0.0         0.0     0.0      0.0       0.0      0.0   \n",
       "228      0.0     0.0     0.0         0.0     0.0      0.0       0.0      0.0   \n",
       "325      0.0     0.0     0.0         0.0     0.0      0.0       0.0      0.0   \n",
       "\n",
       "     acceleromet  accelwat  ...  öamtc  żurawlów  ʽdi  ʽresourc  \\\n",
       "58           0.0       0.0  ...    0.0       0.0  0.0       0.0   \n",
       "62           0.0       0.0  ...    0.0       0.0  0.0       0.0   \n",
       "135          0.0       0.0  ...    0.0       0.0  0.0       0.0   \n",
       "228          0.0       0.0  ...    0.0       0.0  0.0       0.0   \n",
       "325          0.0       0.0  ...    0.0       0.0  0.0       0.0   \n",
       "\n",
       "     ʽsoftwarizationʼ   ιτ   μm  μmole  σiderwin   τo  \n",
       "58                0.0  0.0  0.0    0.0       0.0  0.0  \n",
       "62                0.0  0.0  0.0    0.0       0.0  0.0  \n",
       "135               0.0  0.0  0.0    0.0       0.0  0.0  \n",
       "228               0.0  0.0  0.0    0.0       0.0  0.0  \n",
       "325               0.0  0.0  0.0    0.0       0.0  0.0  \n",
       "\n",
       "[5 rows x 9626 columns]"
      ]
     },
     "execution_count": 54,
     "metadata": {},
     "output_type": "execute_result"
    }
   ],
   "source": [
    "tfidf_unigram_vectorizer = TfidfVectorizer(ngram_range=(1,1))\n",
    "\n",
    "tfidf_unigram = tfidf_unigram_vectorizer.fit_transform(objective_terms_tokenized)\n",
    "tfidf_terms_name_unigram = tfidf_unigram_vectorizer.get_feature_names()\n",
    "tfidf_unigram_matrix = tfidf_unigram.toarray()\n",
    "print (tfidf_terms_name_unigram[:5])\n",
    "tfidf_unigram = pd.DataFrame(index=results_keywordSearch.index, data=tfidf_unigram_matrix,columns = tfidf_terms_name_unigram)\n",
    "tfidf_unigram.head()"
   ]
  },
  {
   "cell_type": "code",
   "execution_count": 55,
   "id": "390de3b7",
   "metadata": {
    "scrolled": true
   },
   "outputs": [
    {
     "data": {
      "text/html": [
       "<div>\n",
       "<style scoped>\n",
       "    .dataframe tbody tr th:only-of-type {\n",
       "        vertical-align: middle;\n",
       "    }\n",
       "\n",
       "    .dataframe tbody tr th {\n",
       "        vertical-align: top;\n",
       "    }\n",
       "\n",
       "    .dataframe thead th {\n",
       "        text-align: right;\n",
       "    }\n",
       "</style>\n",
       "<table border=\"1\" class=\"dataframe\">\n",
       "  <thead>\n",
       "    <tr style=\"text-align: right;\">\n",
       "      <th></th>\n",
       "      <th>tf-idf</th>\n",
       "    </tr>\n",
       "  </thead>\n",
       "  <tbody>\n",
       "    <tr>\n",
       "      <th>energi</th>\n",
       "      <td>76.732687</td>\n",
       "    </tr>\n",
       "    <tr>\n",
       "      <th>build</th>\n",
       "      <td>50.704082</td>\n",
       "    </tr>\n",
       "    <tr>\n",
       "      <th>system</th>\n",
       "      <td>38.007327</td>\n",
       "    </tr>\n",
       "    <tr>\n",
       "      <th>develop</th>\n",
       "      <td>35.361277</td>\n",
       "    </tr>\n",
       "    <tr>\n",
       "      <th>technolog</th>\n",
       "      <td>32.200052</td>\n",
       "    </tr>\n",
       "    <tr>\n",
       "      <th>...</th>\n",
       "      <td>...</td>\n",
       "    </tr>\n",
       "    <tr>\n",
       "      <th>mtsystem</th>\n",
       "      <td>0.100078</td>\n",
       "    </tr>\n",
       "    <tr>\n",
       "      <th>blizzard</th>\n",
       "      <td>0.100050</td>\n",
       "    </tr>\n",
       "    <tr>\n",
       "      <th>adequaci</th>\n",
       "      <td>0.100050</td>\n",
       "    </tr>\n",
       "    <tr>\n",
       "      <th>ktn</th>\n",
       "      <td>0.100050</td>\n",
       "    </tr>\n",
       "    <tr>\n",
       "      <th>clog</th>\n",
       "      <td>0.100050</td>\n",
       "    </tr>\n",
       "  </tbody>\n",
       "</table>\n",
       "<p>7884 rows × 1 columns</p>\n",
       "</div>"
      ],
      "text/plain": [
       "              tf-idf\n",
       "energi     76.732687\n",
       "build      50.704082\n",
       "system     38.007327\n",
       "develop    35.361277\n",
       "technolog  32.200052\n",
       "...              ...\n",
       "mtsystem    0.100078\n",
       "blizzard    0.100050\n",
       "adequaci    0.100050\n",
       "ktn         0.100050\n",
       "clog        0.100050\n",
       "\n",
       "[7884 rows x 1 columns]"
      ]
     },
     "execution_count": 55,
     "metadata": {},
     "output_type": "execute_result"
    }
   ],
   "source": [
    "tfidf_unigram_transp = tfidf_unigram.T\n",
    "tfidf_unigram_transp.head(5)\n",
    "tfidf_unigram_transp['tf-idf'] = tfidf_unigram_transp.sum(axis=1)\n",
    "\n",
    "tfidf_unigram_term_freq = tfidf_unigram_transp[['tf-idf']]\n",
    "tfidf_unigram_term_freq = tfidf_unigram_term_freq[tfidf_unigram_term_freq['tf-idf']>0.1]\n",
    "tfidf_unigram_term_freq=tfidf_unigram_term_freq.sort_values(by=['tf-idf'], ascending=False)\n",
    "tfidf_unigram_term_freq"
   ]
  },
  {
   "cell_type": "markdown",
   "id": "27fda9c5",
   "metadata": {},
   "source": [
    "**As we can see we still have words that were tokenized and put as ngram being unessential for our purpose. Mainly , they are the acronyms of projects that were mentioned in project description and different proper nouns (cities, countries, etc).**\n",
    "\n",
    "For that reason the manual screning of TFIDF terms will be done to repove \"noizy\" to words that were tokenized as unigrams by putting them into the additional stopwords."
   ]
  },
  {
   "cell_type": "code",
   "execution_count": 56,
   "id": "a0a9baff",
   "metadata": {},
   "outputs": [],
   "source": [
    "tfidf_unigram=tfidf_unigram_term_freq[:1000] #example with bigrams\n",
    "tfidf_unigram.to_csv('../data/ngrams/unigrams_tfidf.csv')"
   ]
  },
  {
   "cell_type": "markdown",
   "id": "dcf934b9",
   "metadata": {},
   "source": [
    "**TF-IDF Bigrams**"
   ]
  },
  {
   "cell_type": "code",
   "execution_count": 57,
   "id": "ad89b48a",
   "metadata": {
    "scrolled": true
   },
   "outputs": [
    {
     "name": "stdout",
     "output_type": "stream",
     "text": [
      "['abreast research', 'abridg eu', 'abrupt transit', 'abundantli dure', 'academ advisor']\n"
     ]
    },
    {
     "data": {
      "text/html": [
       "<div>\n",
       "<style scoped>\n",
       "    .dataframe tbody tr th:only-of-type {\n",
       "        vertical-align: middle;\n",
       "    }\n",
       "\n",
       "    .dataframe tbody tr th {\n",
       "        vertical-align: top;\n",
       "    }\n",
       "\n",
       "    .dataframe thead th {\n",
       "        text-align: right;\n",
       "    }\n",
       "</style>\n",
       "<table border=\"1\" class=\"dataframe\">\n",
       "  <thead>\n",
       "    <tr style=\"text-align: right;\">\n",
       "      <th></th>\n",
       "      <th>abreast research</th>\n",
       "      <th>abridg eu</th>\n",
       "      <th>abrupt transit</th>\n",
       "      <th>abundantli dure</th>\n",
       "      <th>academ advisor</th>\n",
       "      <th>academ appli</th>\n",
       "      <th>academ background</th>\n",
       "      <th>academ boundari</th>\n",
       "      <th>academ center</th>\n",
       "      <th>academ circl</th>\n",
       "      <th>...</th>\n",
       "      <th>żurawlów similar</th>\n",
       "      <th>żurawlów villag</th>\n",
       "      <th>ʽdi aggreg</th>\n",
       "      <th>ʽresourc disaggregationʼ</th>\n",
       "      <th>ʽsoftwarizationʼ migrat</th>\n",
       "      <th>ιτ celj</th>\n",
       "      <th>μm formul</th>\n",
       "      <th>μmole prototyp</th>\n",
       "      <th>σiderwin propos</th>\n",
       "      <th>τo address</th>\n",
       "    </tr>\n",
       "  </thead>\n",
       "  <tbody>\n",
       "    <tr>\n",
       "      <th>58</th>\n",
       "      <td>0.0</td>\n",
       "      <td>0.0</td>\n",
       "      <td>0.0</td>\n",
       "      <td>0.0</td>\n",
       "      <td>0.0</td>\n",
       "      <td>0.0</td>\n",
       "      <td>0.0</td>\n",
       "      <td>0.0</td>\n",
       "      <td>0.0</td>\n",
       "      <td>0.0</td>\n",
       "      <td>...</td>\n",
       "      <td>0.0</td>\n",
       "      <td>0.0</td>\n",
       "      <td>0.0</td>\n",
       "      <td>0.0</td>\n",
       "      <td>0.0</td>\n",
       "      <td>0.0</td>\n",
       "      <td>0.0</td>\n",
       "      <td>0.0</td>\n",
       "      <td>0.0</td>\n",
       "      <td>0.0</td>\n",
       "    </tr>\n",
       "    <tr>\n",
       "      <th>62</th>\n",
       "      <td>0.0</td>\n",
       "      <td>0.0</td>\n",
       "      <td>0.0</td>\n",
       "      <td>0.0</td>\n",
       "      <td>0.0</td>\n",
       "      <td>0.0</td>\n",
       "      <td>0.0</td>\n",
       "      <td>0.0</td>\n",
       "      <td>0.0</td>\n",
       "      <td>0.0</td>\n",
       "      <td>...</td>\n",
       "      <td>0.0</td>\n",
       "      <td>0.0</td>\n",
       "      <td>0.0</td>\n",
       "      <td>0.0</td>\n",
       "      <td>0.0</td>\n",
       "      <td>0.0</td>\n",
       "      <td>0.0</td>\n",
       "      <td>0.0</td>\n",
       "      <td>0.0</td>\n",
       "      <td>0.0</td>\n",
       "    </tr>\n",
       "    <tr>\n",
       "      <th>135</th>\n",
       "      <td>0.0</td>\n",
       "      <td>0.0</td>\n",
       "      <td>0.0</td>\n",
       "      <td>0.0</td>\n",
       "      <td>0.0</td>\n",
       "      <td>0.0</td>\n",
       "      <td>0.0</td>\n",
       "      <td>0.0</td>\n",
       "      <td>0.0</td>\n",
       "      <td>0.0</td>\n",
       "      <td>...</td>\n",
       "      <td>0.0</td>\n",
       "      <td>0.0</td>\n",
       "      <td>0.0</td>\n",
       "      <td>0.0</td>\n",
       "      <td>0.0</td>\n",
       "      <td>0.0</td>\n",
       "      <td>0.0</td>\n",
       "      <td>0.0</td>\n",
       "      <td>0.0</td>\n",
       "      <td>0.0</td>\n",
       "    </tr>\n",
       "    <tr>\n",
       "      <th>228</th>\n",
       "      <td>0.0</td>\n",
       "      <td>0.0</td>\n",
       "      <td>0.0</td>\n",
       "      <td>0.0</td>\n",
       "      <td>0.0</td>\n",
       "      <td>0.0</td>\n",
       "      <td>0.0</td>\n",
       "      <td>0.0</td>\n",
       "      <td>0.0</td>\n",
       "      <td>0.0</td>\n",
       "      <td>...</td>\n",
       "      <td>0.0</td>\n",
       "      <td>0.0</td>\n",
       "      <td>0.0</td>\n",
       "      <td>0.0</td>\n",
       "      <td>0.0</td>\n",
       "      <td>0.0</td>\n",
       "      <td>0.0</td>\n",
       "      <td>0.0</td>\n",
       "      <td>0.0</td>\n",
       "      <td>0.0</td>\n",
       "    </tr>\n",
       "    <tr>\n",
       "      <th>325</th>\n",
       "      <td>0.0</td>\n",
       "      <td>0.0</td>\n",
       "      <td>0.0</td>\n",
       "      <td>0.0</td>\n",
       "      <td>0.0</td>\n",
       "      <td>0.0</td>\n",
       "      <td>0.0</td>\n",
       "      <td>0.0</td>\n",
       "      <td>0.0</td>\n",
       "      <td>0.0</td>\n",
       "      <td>...</td>\n",
       "      <td>0.0</td>\n",
       "      <td>0.0</td>\n",
       "      <td>0.0</td>\n",
       "      <td>0.0</td>\n",
       "      <td>0.0</td>\n",
       "      <td>0.0</td>\n",
       "      <td>0.0</td>\n",
       "      <td>0.0</td>\n",
       "      <td>0.0</td>\n",
       "      <td>0.0</td>\n",
       "    </tr>\n",
       "  </tbody>\n",
       "</table>\n",
       "<p>5 rows × 138127 columns</p>\n",
       "</div>"
      ],
      "text/plain": [
       "     abreast research  abridg eu  abrupt transit  abundantli dure  \\\n",
       "58                0.0        0.0             0.0              0.0   \n",
       "62                0.0        0.0             0.0              0.0   \n",
       "135               0.0        0.0             0.0              0.0   \n",
       "228               0.0        0.0             0.0              0.0   \n",
       "325               0.0        0.0             0.0              0.0   \n",
       "\n",
       "     academ advisor  academ appli  academ background  academ boundari  \\\n",
       "58              0.0           0.0                0.0              0.0   \n",
       "62              0.0           0.0                0.0              0.0   \n",
       "135             0.0           0.0                0.0              0.0   \n",
       "228             0.0           0.0                0.0              0.0   \n",
       "325             0.0           0.0                0.0              0.0   \n",
       "\n",
       "     academ center  academ circl  ...  żurawlów similar  żurawlów villag  \\\n",
       "58             0.0           0.0  ...               0.0              0.0   \n",
       "62             0.0           0.0  ...               0.0              0.0   \n",
       "135            0.0           0.0  ...               0.0              0.0   \n",
       "228            0.0           0.0  ...               0.0              0.0   \n",
       "325            0.0           0.0  ...               0.0              0.0   \n",
       "\n",
       "     ʽdi aggreg  ʽresourc disaggregationʼ  ʽsoftwarizationʼ migrat  ιτ celj  \\\n",
       "58          0.0                       0.0                      0.0      0.0   \n",
       "62          0.0                       0.0                      0.0      0.0   \n",
       "135         0.0                       0.0                      0.0      0.0   \n",
       "228         0.0                       0.0                      0.0      0.0   \n",
       "325         0.0                       0.0                      0.0      0.0   \n",
       "\n",
       "     μm formul  μmole prototyp  σiderwin propos  τo address  \n",
       "58         0.0             0.0              0.0         0.0  \n",
       "62         0.0             0.0              0.0         0.0  \n",
       "135        0.0             0.0              0.0         0.0  \n",
       "228        0.0             0.0              0.0         0.0  \n",
       "325        0.0             0.0              0.0         0.0  \n",
       "\n",
       "[5 rows x 138127 columns]"
      ]
     },
     "execution_count": 57,
     "metadata": {},
     "output_type": "execute_result"
    }
   ],
   "source": [
    "tfidf_bigram_vectorizer = TfidfVectorizer(ngram_range=(2,2))\n",
    "\n",
    "tfidf_bigram = tfidf_bigram_vectorizer.fit_transform(objective_terms_tokenized)\n",
    "tfidf_terms_name_bigram = tfidf_bigram_vectorizer.get_feature_names()\n",
    "tfidf_bigram_matrix = tfidf_bigram.toarray()\n",
    "\n",
    "print (tfidf_terms_name_bigram[:5])\n",
    "tfidf_bigram = pd.DataFrame(index=results_keywordSearch.index, data=tfidf_bigram_matrix,columns = tfidf_terms_name_bigram)\n",
    "tfidf_bigram.head()"
   ]
  },
  {
   "cell_type": "code",
   "execution_count": 58,
   "id": "d92e2a24",
   "metadata": {
    "scrolled": false
   },
   "outputs": [
    {
     "data": {
      "text/html": [
       "<div>\n",
       "<style scoped>\n",
       "    .dataframe tbody tr th:only-of-type {\n",
       "        vertical-align: middle;\n",
       "    }\n",
       "\n",
       "    .dataframe tbody tr th {\n",
       "        vertical-align: top;\n",
       "    }\n",
       "\n",
       "    .dataframe thead th {\n",
       "        text-align: right;\n",
       "    }\n",
       "</style>\n",
       "<table border=\"1\" class=\"dataframe\">\n",
       "  <thead>\n",
       "    <tr style=\"text-align: right;\">\n",
       "      <th></th>\n",
       "      <th>tf-idf</th>\n",
       "    </tr>\n",
       "  </thead>\n",
       "  <tbody>\n",
       "    <tr>\n",
       "      <th>abreast research</th>\n",
       "      <td>0.078602</td>\n",
       "    </tr>\n",
       "    <tr>\n",
       "      <th>abridg eu</th>\n",
       "      <td>0.075054</td>\n",
       "    </tr>\n",
       "    <tr>\n",
       "      <th>abrupt transit</th>\n",
       "      <td>0.074855</td>\n",
       "    </tr>\n",
       "    <tr>\n",
       "      <th>abundantli dure</th>\n",
       "      <td>0.071891</td>\n",
       "    </tr>\n",
       "    <tr>\n",
       "      <th>academ advisor</th>\n",
       "      <td>0.067084</td>\n",
       "    </tr>\n",
       "    <tr>\n",
       "      <th>...</th>\n",
       "      <td>...</td>\n",
       "    </tr>\n",
       "    <tr>\n",
       "      <th>ιτ celj</th>\n",
       "      <td>0.079582</td>\n",
       "    </tr>\n",
       "    <tr>\n",
       "      <th>μm formul</th>\n",
       "      <td>0.075449</td>\n",
       "    </tr>\n",
       "    <tr>\n",
       "      <th>μmole prototyp</th>\n",
       "      <td>0.077470</td>\n",
       "    </tr>\n",
       "    <tr>\n",
       "      <th>σiderwin propos</th>\n",
       "      <td>0.080653</td>\n",
       "    </tr>\n",
       "    <tr>\n",
       "      <th>τo address</th>\n",
       "      <td>0.073076</td>\n",
       "    </tr>\n",
       "  </tbody>\n",
       "</table>\n",
       "<p>138127 rows × 1 columns</p>\n",
       "</div>"
      ],
      "text/plain": [
       "                    tf-idf\n",
       "abreast research  0.078602\n",
       "abridg eu         0.075054\n",
       "abrupt transit    0.074855\n",
       "abundantli dure   0.071891\n",
       "academ advisor    0.067084\n",
       "...                    ...\n",
       "ιτ celj           0.079582\n",
       "μm formul         0.075449\n",
       "μmole prototyp    0.077470\n",
       "σiderwin propos   0.080653\n",
       "τo address        0.073076\n",
       "\n",
       "[138127 rows x 1 columns]"
      ]
     },
     "execution_count": 58,
     "metadata": {},
     "output_type": "execute_result"
    }
   ],
   "source": [
    "tfidf_bigram_transp = tfidf_bigram.T\n",
    "\n",
    "tfidf_bigram_transp['tf-idf'] = tfidf_bigram_transp.sum(axis=1)\n",
    "\n",
    "tfidf_bigram_term_freq = tfidf_bigram_transp[['tf-idf']]\n",
    "tfidf_bigram_term_freq=tfidf_bigram_term_freq[tfidf_bigram_term_freq['tf-idf']>0.01]\n",
    "tfidf_bigram_term_freq"
   ]
  },
  {
   "cell_type": "markdown",
   "id": "e3fd3116",
   "metadata": {},
   "source": [
    "After that, we save obtained DataFrame it as .csv file, sorted in ascending order by tf-idf column in the following block of code. The same block will be executed for TF-IDF Trigrams."
   ]
  },
  {
   "cell_type": "code",
   "execution_count": 59,
   "id": "5519f44b",
   "metadata": {},
   "outputs": [],
   "source": [
    "tfidf_bigram=tfidf_bigram_term_freq.sort_values(by=['tf-idf'], ascending=False)\n",
    "tfidf_bigram=tfidf_bigram[:1000] #example with bigrams\n",
    "tfidf_bigram = pd.DataFrame(index=tfidf_bigram.index, data=tfidf_bigram)\n",
    "tfidf_bigram.to_csv('../data/ngrams/bigrams_tfidf.csv')"
   ]
  },
  {
   "cell_type": "markdown",
   "id": "a1e2bf93",
   "metadata": {},
   "source": [
    "**TF-IDF Trigrams**"
   ]
  },
  {
   "cell_type": "code",
   "execution_count": 60,
   "id": "53e33471",
   "metadata": {
    "scrolled": true
   },
   "outputs": [],
   "source": [
    "tfidf_trigram_vectorizer = TfidfVectorizer(ngram_range=(3,3))\n",
    "\n",
    "tfidf_trigram = tfidf_trigram_vectorizer.fit_transform(objective_terms_tokenized)\n",
    "tfidf_terms_name_trigram = tfidf_trigram_vectorizer.get_feature_names()\n",
    "tfidf_trigram_matrix = tfidf_trigram.toarray()\n",
    "tfidf_trigram = pd.DataFrame(index=results_keywordSearch.index, data=tfidf_trigram_matrix,columns = tfidf_terms_name_trigram)"
   ]
  },
  {
   "cell_type": "code",
   "execution_count": 61,
   "id": "87061779",
   "metadata": {
    "scrolled": false
   },
   "outputs": [
    {
     "data": {
      "text/html": [
       "<div>\n",
       "<style scoped>\n",
       "    .dataframe tbody tr th:only-of-type {\n",
       "        vertical-align: middle;\n",
       "    }\n",
       "\n",
       "    .dataframe tbody tr th {\n",
       "        vertical-align: top;\n",
       "    }\n",
       "\n",
       "    .dataframe thead th {\n",
       "        text-align: right;\n",
       "    }\n",
       "</style>\n",
       "<table border=\"1\" class=\"dataframe\">\n",
       "  <thead>\n",
       "    <tr style=\"text-align: right;\">\n",
       "      <th></th>\n",
       "      <th>tf-idf</th>\n",
       "    </tr>\n",
       "  </thead>\n",
       "  <tbody>\n",
       "    <tr>\n",
       "      <th>renew energi sourc</th>\n",
       "      <td>2.697478</td>\n",
       "    </tr>\n",
       "    <tr>\n",
       "      <th>reduc energi consumpt</th>\n",
       "      <td>2.465855</td>\n",
       "    </tr>\n",
       "    <tr>\n",
       "      <th>nearli zero energi</th>\n",
       "      <td>2.335226</td>\n",
       "    </tr>\n",
       "    <tr>\n",
       "      <th>energi effici build</th>\n",
       "      <td>2.291328</td>\n",
       "    </tr>\n",
       "    <tr>\n",
       "      <th>zero energi build</th>\n",
       "      <td>2.093285</td>\n",
       "    </tr>\n",
       "    <tr>\n",
       "      <th>...</th>\n",
       "      <td>...</td>\n",
       "    </tr>\n",
       "    <tr>\n",
       "      <th>learn algorithm develop</th>\n",
       "      <td>0.100920</td>\n",
       "    </tr>\n",
       "    <tr>\n",
       "      <th>hous optmis solut</th>\n",
       "      <td>0.100920</td>\n",
       "    </tr>\n",
       "    <tr>\n",
       "      <th>develop compani base</th>\n",
       "      <td>0.100920</td>\n",
       "    </tr>\n",
       "    <tr>\n",
       "      <th>regard employ peopl</th>\n",
       "      <td>0.100920</td>\n",
       "    </tr>\n",
       "    <tr>\n",
       "      <th>provid servic need</th>\n",
       "      <td>0.100920</td>\n",
       "    </tr>\n",
       "  </tbody>\n",
       "</table>\n",
       "<p>9303 rows × 1 columns</p>\n",
       "</div>"
      ],
      "text/plain": [
       "                           tf-idf\n",
       "renew energi sourc       2.697478\n",
       "reduc energi consumpt    2.465855\n",
       "nearli zero energi       2.335226\n",
       "energi effici build      2.291328\n",
       "zero energi build        2.093285\n",
       "...                           ...\n",
       "learn algorithm develop  0.100920\n",
       "hous optmis solut        0.100920\n",
       "develop compani base     0.100920\n",
       "regard employ peopl      0.100920\n",
       "provid servic need       0.100920\n",
       "\n",
       "[9303 rows x 1 columns]"
      ]
     },
     "execution_count": 61,
     "metadata": {},
     "output_type": "execute_result"
    }
   ],
   "source": [
    "tfidf_trigram_transp = tfidf_trigram.T\n",
    "\n",
    "tfidf_trigram_transp['tf-idf'] = tfidf_trigram_transp.sum(axis=1)\n",
    "\n",
    "tfidf_trigram_term_freq = tfidf_trigram_transp[['tf-idf']]\n",
    "tfidf_trigram_term_freq = tfidf_trigram_term_freq[tfidf_trigram_term_freq['tf-idf']>0.1]\n",
    "tfidf_trigram_term_freq.sort_values(by=['tf-idf'], ascending=False)"
   ]
  },
  {
   "cell_type": "markdown",
   "id": "d96dd45a",
   "metadata": {},
   "source": [
    "Block of code which saves TF-IDF Trigrams as .csv "
   ]
  },
  {
   "cell_type": "code",
   "execution_count": 62,
   "id": "345dbbde",
   "metadata": {},
   "outputs": [],
   "source": [
    "tfidf_trigram=tfidf_trigram_term_freq.sort_values(by=['tf-idf'], ascending=False)\n",
    "tfidf_trigram=tfidf_trigram[:1000] #example with bigrams\n",
    "tfidf_trigram = pd.DataFrame(index=tfidf_trigram.index, data=tfidf_trigram)\n",
    "tfidf_trigram.to_csv('../data/ngrams/trigrams_tfidf.csv')"
   ]
  },
  {
   "cell_type": "markdown",
   "id": "684af336",
   "metadata": {},
   "source": [
    "### Status of projects"
   ]
  },
  {
   "cell_type": "code",
   "execution_count": 63,
   "id": "b2a74806",
   "metadata": {},
   "outputs": [
    {
     "name": "stdout",
     "output_type": "stream",
     "text": [
      "Closed projects: 486\n",
      "Signed projects: 730 \n",
      "Terminated: 13 \n",
      "TOTAL: 1229\n"
     ]
    }
   ],
   "source": [
    "time_plot = results_keywordSearch[['id','acronym','title', 'objective', 'status', 'startDate','endDate','ecMaxContribution']]\n",
    "\n",
    "closed = len(time_plot.loc[time_plot['status'] == 'CLOSED'])\n",
    "signed = len(time_plot.loc[time_plot['status'] == 'SIGNED'])\n",
    "terminated = len(time_plot.loc[time_plot['status'] == 'TERMINATED'])\n",
    "sum= closed+signed+terminated\n",
    "print('Closed projects: {}\\nSigned projects: {} \\nTerminated: {} \\nTOTAL: {}'.format(closed, signed, terminated, sum))\n"
   ]
  },
  {
   "cell_type": "code",
   "execution_count": null,
   "id": "92853493",
   "metadata": {},
   "outputs": [],
   "source": []
  }
 ],
 "metadata": {
  "kernelspec": {
   "display_name": "Python 3",
   "language": "python",
   "name": "python3"
  },
  "language_info": {
   "codemirror_mode": {
    "name": "ipython",
    "version": 3
   },
   "file_extension": ".py",
   "mimetype": "text/x-python",
   "name": "python",
   "nbconvert_exporter": "python",
   "pygments_lexer": "ipython3",
   "version": "3.8.8"
  }
 },
 "nbformat": 4,
 "nbformat_minor": 5
}
